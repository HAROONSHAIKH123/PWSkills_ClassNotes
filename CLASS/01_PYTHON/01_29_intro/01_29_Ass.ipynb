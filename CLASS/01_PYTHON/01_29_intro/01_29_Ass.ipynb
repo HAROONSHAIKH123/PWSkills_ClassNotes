{
 "cells": [
  {
   "cell_type": "markdown",
   "metadata": {},
   "source": [
    "### 1. Who developed python programmng language?"
   ]
  },
  {
   "cell_type": "markdown",
   "metadata": {},
   "source": [
    "Ans: Python programming language was developed by Guido van Rossum and was first released in 1991."
   ]
  },
  {
   "cell_type": "markdown",
   "metadata": {},
   "source": [
    "### 2. Which type of programming does python support?"
   ]
  },
  {
   "cell_type": "markdown",
   "metadata": {},
   "source": [
    "Ans: Python is a multi-paradigm programming language and supports the following programming paradigms:\n",
    "\n",
    "1. Imperative programming: Supports procedural programming and allows to use statements to change a program's state.\n",
    "\n",
    "2. Object-oriented programming: Supports encapsulation, inheritance and polymorphism.\n",
    "\n",
    "3. Functional programming: Supports higher-order functions, functions as objects and lazy evaluation.\n",
    "\n",
    "4. Scripting: Can be used as a scripting language to automate tasks and interact with the operating system."
   ]
  },
  {
   "cell_type": "markdown",
   "metadata": {},
   "source": [
    "### 3. Is python case sesitive when dealing with identifiers?"
   ]
  },
  {
   "cell_type": "markdown",
   "metadata": {},
   "source": [
    "Ans: Yes, Python is case-sensitive when it comes to dealing with identifiers. This means that names like \"var\", \"Var\", and \"VAR\" would be considered three different and separate identifiers."
   ]
  },
  {
   "cell_type": "markdown",
   "metadata": {},
   "source": [
    "### 4. What is correct extension of the python file?"
   ]
  },
  {
   "cell_type": "markdown",
   "metadata": {},
   "source": [
    "Ans: The correct file extension for a Python file is \".py\". Python files are saved with this extension and can be executed as a script or imported as a module in other Python programs."
   ]
  },
  {
   "cell_type": "markdown",
   "metadata": {},
   "source": [
    "### 5. Is python code compiled or interpreted?"
   ]
  },
  {
   "cell_type": "markdown",
   "metadata": {},
   "source": [
    "Ans: Python is an interpreted language, not a compiled language. This means that the source code of a Python program is executed line by line by the Python interpreter, rather than being compiled into machine code before it is executed. The interpreted nature of Python provides greater flexibility and makes it easier to develop, test, and debug Python code."
   ]
  },
  {
   "cell_type": "markdown",
   "metadata": {},
   "source": [
    "### 6. Name a few blocks of code used to define in python language?"
   ]
  },
  {
   "cell_type": "markdown",
   "metadata": {},
   "source": [
    "Ans: 1. Functions: Blocks of code that can be called multiple times and are defined using the \"def\" keyword.\n",
    "\n",
    "2. Conditional blocks: Used to execute code based on certain conditions and are defined using \"if\" statements.\n",
    "\n",
    "3. Loops: Used to execute code multiple times and are defined using \"for\" and \"while\" statements.\n",
    "\n",
    "4. Classes: Used to define user-defined data types and are defined using the \"class\" keyword.\n",
    "\n",
    "5. Exception handling blocks: Used to handle errors and exceptions in a program and are defined using \"try\" and \"except\" statements."
   ]
  },
  {
   "cell_type": "markdown",
   "metadata": {},
   "source": [
    "### 7. State a charactor used to give single line comments in python?"
   ]
  },
  {
   "cell_type": "markdown",
   "metadata": {},
   "source": [
    "Ans: In Python, the character \"#\" is used to give single line comments. Everything following a \"#\" symbol on a line is ignored by the Python interpreter and is treated as a comment, not as part of the code. For example:"
   ]
  },
  {
   "cell_type": "code",
   "execution_count": 1,
   "metadata": {},
   "outputs": [],
   "source": [
    "# This is a single line comment in Python"
   ]
  },
  {
   "cell_type": "markdown",
   "metadata": {},
   "source": [
    "### 8. Mention functions which can help us to find the version of python that we are currenty working on?"
   ]
  },
  {
   "cell_type": "markdown",
   "metadata": {},
   "source": [
    "Ans: In Python, you can use the following functions to find the version of Python that you are currently working on:\n",
    "\n",
    "1.  `sys.version`: This returns a string containing information about the Python version, including the version number and build information.\n",
    "\n",
    "2. `sys.version_info`: This returns a tuple containing information about the Python version, including the major, minor, and micro version numbers.\n",
    "\n",
    "3. `platform.python_version()`: This returns a string containing the version number of Python that you are currently using."
   ]
  },
  {
   "cell_type": "code",
   "execution_count": 2,
   "metadata": {},
   "outputs": [
    {
     "name": "stdout",
     "output_type": "stream",
     "text": [
      "3.8.10 (default, Nov 14 2022, 12:59:47) \n",
      "[GCC 9.4.0]\n",
      "sys.version_info(major=3, minor=8, micro=10, releaselevel='final', serial=0)\n",
      "3.8.10\n"
     ]
    }
   ],
   "source": [
    "import sys\n",
    "print(sys.version)\n",
    "print(sys.version_info)\n",
    "\n",
    "import platform\n",
    "print(platform.python_version())"
   ]
  },
  {
   "cell_type": "markdown",
   "metadata": {},
   "source": [
    "### 9. Python support the creation of anonymous functions at runtime,using a construct called __________ ?"
   ]
  },
  {
   "cell_type": "markdown",
   "metadata": {},
   "source": [
    "Ans: Python supports the creation of anonymous functions at runtime using a construct called `lambda`. A lambda function is a small anonymous function that can take any number of arguments but can only have one expression. The expression is evaluated and returned when the function is called. Lambda functions are used when a small function is needed for a short period of time."
   ]
  },
  {
   "cell_type": "code",
   "execution_count": 3,
   "metadata": {},
   "outputs": [
    {
     "name": "stdout",
     "output_type": "stream",
     "text": [
      "3\n"
     ]
    }
   ],
   "source": [
    "sum = lambda a, b: a + b\n",
    "print(sum(1, 2))  # Output: 3"
   ]
  },
  {
   "cell_type": "markdown",
   "metadata": {},
   "source": [
    "### 10. What does pip stand for python?"
   ]
  },
  {
   "cell_type": "markdown",
   "metadata": {},
   "source": [
    "Ans: \"pip\" stands for \"Pip Installs Packages\" in Python. It is a package manager for Python packages, or modules if you like. Pip is used to install and manage software packages written in Python. With pip, you can install packages from the Python Package Index (PyPI) and other repositories. Pip makes it easy to install, upgrade, and remove packages for your Python environment."
   ]
  },
  {
   "cell_type": "markdown",
   "metadata": {},
   "source": [
    "### 11. Mention a few builtin functions in python?"
   ]
  },
  {
   "cell_type": "markdown",
   "metadata": {},
   "source": [
    "Ans: Here are a few built-in functions in Python:\n",
    "\n",
    "`print()`: Used to display output on the console.\n",
    "\n",
    "`len()`: Returns the length of an object, such as a string, list, or tuple.\n",
    "\n",
    "`str()`: Converts an object to a string representation.\n",
    "\n",
    "`int()`: Converts a string or a float to an integer.\n",
    "\n",
    "`float()`: Converts a string or an integer to a floating-point number.\n",
    "\n",
    "`sum()`: Adds up the elements of an iterable and returns the sum.\n",
    "\n",
    "`min()` and `max()`: Return the minimum and maximum values, respectively, of an iterable.\n",
    "\n",
    "`sorted()`: Returns a sorted list from an iterable.\n",
    "\n",
    "`abs()`: Returns the absolute value of a number.\n",
    "\n",
    "`range()`: Generates a sequence of numbers and can be used to iterate over for loops.\n",
    "\n",
    "These are just a few examples. Python has many more built-in functions that you can use in your programs."
   ]
  },
  {
   "cell_type": "markdown",
   "metadata": {},
   "source": [
    "### 12. What is the  maximum possible length of an identifier in python?"
   ]
  },
  {
   "cell_type": "markdown",
   "metadata": {},
   "source": [
    "Ans: In Python, there is no explicit limit to the length of an identifier (variable name, function name, etc.). The length of an identifier is limited only by the amount of memory available to the Python interpreter. However, it is best to keep identifier names short, descriptive, and meaningful for readability and maintainability purposes."
   ]
  },
  {
   "cell_type": "markdown",
   "metadata": {},
   "source": [
    "### 13. What are the benifits of using python? "
   ]
  },
  {
   "cell_type": "markdown",
   "metadata": {},
   "source": [
    "Ans: There are many benefits of using Python, some of them are:\n",
    "\n",
    "1. Easy to learn and read: Python has a simple and clean syntax that is easy to learn, even for beginners. It's also easy to read and understand, making it a great language for collaborating with others.\n",
    "\n",
    "2. Versatile: Python can be used for a wide range of applications, including web development, scientific computing, data analysis, artificial intelligence, and more.\n",
    "\n",
    "3. Large standard library: Python has a large standard library that includes modules for a variety of tasks, from web development to data analysis. This saves time and effort because developers do not have to write all the code from scratch.\n",
    "\n",
    "4. Dynamic typing: In Python, you do not have to declare the type of a variable. This allows for more flexibility and reduces the number of errors in your code.\n",
    "\n",
    "5. Interoperability: Python can be easily integrated with other programming languages and systems, making it a great choice for building complex systems and applications.\n",
    "\n",
    "6. Active community: Python has a large and active community of developers, which means that there is a wealth of resources, tutorials, and packages available for you to use.\n",
    "\n",
    "7. Portable: Python code can run on any platform or operating system, making it a great choice for cross-platform development.\n",
    "\n",
    "8. These are just a few of the many benefits of using Python. Whether you are a beginner or an experienced programmer, Python offers a wealth of opportunities for building great projects and solving real-world problems."
   ]
  },
  {
   "cell_type": "markdown",
   "metadata": {},
   "source": [
    "### 14. How is memory managed in python?"
   ]
  },
  {
   "cell_type": "markdown",
   "metadata": {},
   "source": [
    "Ans: In Python, memory management is handled by the Python interpreter's memory manager. It is responsible for allocating memory for the objects used in the program and freeing up memory that is no longer needed.\n",
    "\n",
    "Python uses a reference counting system to keep track of the number of references to an object. An object's reference count is increased each time it is assigned to a new variable or appended to a list. The memory manager automatically frees up the memory used by an object when its reference count reaches zero, indicating that the object is no longer in use.\n",
    "\n",
    "Additionally, Python has a built-in garbage collector that tracks objects in the system and frees up memory occupied by objects that are no longer accessible from the program. The garbage collector uses a cyclic reference counting algorithm that periodically checks for objects with a reference count of zero and frees up their memory.\n",
    "\n",
    "In general, Python's memory management is transparent to the programmer, and you do not need to worry about freeing up memory or managing memory usage in your programs. The Python interpreter takes care of this automatically."
   ]
  },
  {
   "cell_type": "markdown",
   "metadata": {},
   "source": [
    "### 15. How to install python on windows and set path variables?"
   ]
  },
  {
   "cell_type": "markdown",
   "metadata": {},
   "source": [
    "Ans: To install Python on Windows, follow these steps:\n",
    "\n",
    "1. Download the latest version of Python from the official website: https://www.python.org/downloads/\n",
    "\n",
    "2. Run the downloaded executable file to start the installation process.\n",
    "\n",
    "3. On the first screen, select \"Add Python 3.x to PATH\" (where x is the version number of Python that you are installing) to automatically add Python to your system's PATH environment variable.\n",
    "\n",
    "4. Complete the installation process by following the prompts.\n",
    "\n",
    "To set the PATH environment variable:\n",
    "\n",
    "1. Open the Start menu and search for \"Environment Variables\".\n",
    "\n",
    "2. Click on \"Edit the system environment variables\".\n",
    "\n",
    "3. Click on the \"Environment Variables\" button.\n",
    "\n",
    "4. Scroll down to the \"System Variables\" section and find the \"Path\" variable.\n",
    "\n",
    "5. Click on the \"Edit\" button and then click on \"New\".\n",
    "\n",
    "6. Enter the path to your Python installation (e.g., C:\\Python36).\n",
    "\n",
    "7. Click on \"OK\" to save the changes.\n",
    "\n",
    "8. Close the Environment Variables window and open a new Command Prompt window to verify that Python has been successfully added to your PATH.\n",
    "\n",
    "These steps should help you install Python on Windows and set the PATH environment variable so that you can use Python from the Command Prompt or other command-line interfaces."
   ]
  },
  {
   "cell_type": "markdown",
   "metadata": {},
   "source": [
    "### 16. Is indentation required in python?"
   ]
  },
  {
   "cell_type": "markdown",
   "metadata": {},
   "source": [
    "Ans: Yes, indentation is required in Python. Indentation is used to define blocks of code, such as functions, loops, and conditionals. In Python, whitespace is used to indicate the level of nesting in a block of code. Each block of code is indented by the same number of spaces or tabs, and the level of indentation determines the scope of the code.\n",
    "\n",
    "For example, a code block that is indented four spaces or one tab is considered to be inside a code block that is indented two spaces or one half-tab. This helps to make the code more readable and easy to understand.\n",
    "\n",
    "It is important to be consistent with your indentation in Python, as the indentation determines the structure of the code and affects how it is executed. Inconsistent or incorrect indentation can lead to syntax errors or unexpected behavior in your code."
   ]
  }
 ],
 "metadata": {
  "kernelspec": {
   "display_name": "Python 3.8.10 64-bit",
   "language": "python",
   "name": "python3"
  },
  "language_info": {
   "codemirror_mode": {
    "name": "ipython",
    "version": 3
   },
   "file_extension": ".py",
   "mimetype": "text/x-python",
   "name": "python",
   "nbconvert_exporter": "python",
   "pygments_lexer": "ipython3",
   "version": "3.8.10"
  },
  "orig_nbformat": 4,
  "vscode": {
   "interpreter": {
    "hash": "e7370f93d1d0cde622a1f8e1c04877d8463912d04d973331ad4851f04de6915a"
   }
  }
 },
 "nbformat": 4,
 "nbformat_minor": 2
}
