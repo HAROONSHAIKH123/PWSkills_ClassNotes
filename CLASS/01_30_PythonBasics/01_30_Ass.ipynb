{
 "cells": [
  {
   "cell_type": "code",
   "execution_count": null,
   "metadata": {},
   "outputs": [],
   "source": []
  },
  {
   "cell_type": "markdown",
   "metadata": {},
   "source": [
    "### 1. Write a program to accept percentage from the user and display the grade according to the following criteria:"
   ]
  },
  {
   "cell_type": "code",
   "execution_count": 9,
   "metadata": {},
   "outputs": [
    {
     "name": "stdout",
     "output_type": "stream",
     "text": [
      "D\n"
     ]
    }
   ],
   "source": [
    "# Input marks\n",
    "marks = int(input(\"enter the marks:  \"))\n",
    "\n",
    "# Check criteria\n",
    "if marks > 90:\n",
    "    print('A')\n",
    "if marks > 80 and marks <= 90:\n",
    "    print('B')\n",
    "if marks >= 60 and marks <= 80:\n",
    "    print('C')\n",
    "if marks < 60:\n",
    "    print('D')"
   ]
  },
  {
   "cell_type": "markdown",
   "metadata": {},
   "source": [
    "### 2. Write a program to accept the cost price of a bike and display"
   ]
  },
  {
   "cell_type": "code",
   "execution_count": 10,
   "metadata": {},
   "outputs": [
    {
     "name": "stdout",
     "output_type": "stream",
     "text": [
      "15%\n"
     ]
    }
   ],
   "source": [
    "#Tthe road tax to be paid according to the following criteria\n",
    "\n",
    "# User input\n",
    "costPriceOfBike = float(input(\"Enter the cost price of a bike: \"))\n",
    "\n",
    "# Criteria\n",
    "if(costPriceOfBike > 100000):\n",
    "    print(\"15%\")\n",
    "elif costPriceOfBike > 50000 and costPriceOfBike <= 100000:\n",
    "    print(\"10%\")\n",
    "else:\n",
    "    print(\"5%\")"
   ]
  },
  {
   "cell_type": "markdown",
   "metadata": {},
   "source": [
    "### 3. Accept any city from the user and display monuments of that city"
   ]
  },
  {
   "cell_type": "code",
   "execution_count": 2,
   "metadata": {},
   "outputs": [
    {
     "name": "stdout",
     "output_type": "stream",
     "text": [
      "Taj Mahal\n"
     ]
    }
   ],
   "source": [
    "# User input\n",
    "city = input(\"Enter city name [Delhi, Agra, Jaipur]: \")\n",
    "\n",
    "# Isplay monuments of that city\n",
    "if city == \"Delhi\":\n",
    "    print(\"Red Fort\")\n",
    "elif city == \"Agra\":\n",
    "    print(\"Taj Mahal\")\n",
    "elif city == \"Jaipur\":\n",
    "    print(\"Jal Mahal\")"
   ]
  },
  {
   "cell_type": "code",
   "execution_count": null,
   "metadata": {},
   "outputs": [],
   "source": []
  },
  {
   "cell_type": "markdown",
   "metadata": {},
   "source": [
    "### 4. check how many times a given number can be divided by 3 Before it is less than or equal to 10"
   ]
  },
  {
   "cell_type": "code",
   "execution_count": 5,
   "metadata": {},
   "outputs": [
    {
     "name": "stdout",
     "output_type": "stream",
     "text": [
      "The number can be divided by 3 is 5 times before it is less than or equal to 10.\n"
     ]
    }
   ],
   "source": [
    "# User input\n",
    "number = int(input(\"Enter a number: \"))\n",
    "\n",
    "# Variable declaration\n",
    "count = 0\n",
    "\n",
    "# While loop will run until it is less than or equal to 10\n",
    "while number > 10:\n",
    "    # check for divide by 3\n",
    "    number = number / 3\n",
    "    # increment count\n",
    "    count += 1\n",
    "\n",
    "# Print message\n",
    "print(\"The number can be divided by 3 is\", count, \"times before it is less than or equal to 10.\")"
   ]
  },
  {
   "cell_type": "markdown",
   "metadata": {},
   "source": [
    "### 5. Why and when to use while loop in python give a detailed description with example"
   ]
  },
  {
   "cell_type": "markdown",
   "metadata": {},
   "source": [
    "A while loop in Python is used to repeatedly execute a block of code as long as a certain condition is met. The loop will keep running as long as the condition is True, and will exit when the condition becomes False.\n",
    "\n",
    "Here's the general syntax for a while loop in Python:\n",
    "while condition:\n",
    "    Code to be executed\n",
    "\n",
    "Here's an example that demonstrates the use of a while loop:\n",
    "Print the numbers from 1 to 10\n",
    "\n",
    "`\n",
    "counter = 1\n",
    "while counter <= 10:\n",
    "    print(counter)\n",
    "    counter += 1\n",
    "`\n",
    "\n",
    "In this example, the while loop will run as long as the value of counter is less than or equal to 10. On each iteration of the loop, the value of counter is printed,and then incremented by 1. The loop will exit when the value of counter becomes greater than 10.\n",
    "\n",
    "The while loop is useful when you don't know in advance how many times you need to loop, and you want to keep looping until a certain condition is met. For example, you can use a while loop to read data from a file until the end of the file is reached, or to keep asking the user for input until a valid response is given."
   ]
  },
  {
   "cell_type": "markdown",
   "metadata": {},
   "source": [
    "### 6. Use nested while loop to print 3 different pattern"
   ]
  },
  {
   "cell_type": "code",
   "execution_count": 6,
   "metadata": {},
   "outputs": [
    {
     "name": "stdout",
     "output_type": "stream",
     "text": [
      "Pattern 1\n",
      "1\n",
      "12\n",
      "123\n",
      "1234\n",
      "----------------------------------------------------------------\n",
      "Pattern 2\n",
      "*\n",
      "**\n",
      "***\n",
      "****\n",
      "----------------------------------------------------------------\n",
      "Pattern 3\n",
      "😀😀😆😀😀😆😀😀😆😀😀😆😀😀😆😀😀😆😀😀😆😀😀😆😀😀😆\n",
      "😀😀😆😀😀😆😀😀😆😀😀😆😀😀😆😀😀😆😀😀😆😀😀😆😀😀😆\n",
      "😀😀😆😀😀😆😀😀😆😀😀😆😀😀😆😀😀😆😀😀😆😀😀😆😀😀😆\n",
      "😀😀😆😀😀😆😀😀😆😀😀😆😀😀😆😀😀😆😀😀😆😀😀😆😀😀😆\n",
      "😀😀😆😀😀😆😀😀😆😀😀😆😀😀😆😀😀😆😀😀😆😀😀😆😀😀😆\n",
      "😀😀😆😀😀😆😀😀😆😀😀😆😀😀😆😀😀😆😀😀😆😀😀😆😀😀😆\n",
      "😀😀😆😀😀😆😀😀😆😀😀😆😀😀😆😀😀😆😀😀😆😀😀😆😀😀😆\n",
      "😀😀😆😀😀😆😀😀😆😀😀😆😀😀😆😀😀😆😀😀😆😀😀😆😀😀😆\n",
      "😀😀😆😀😀😆😀😀😆😀😀😆😀😀😆😀😀😆😀😀😆😀😀😆😀😀😆\n"
     ]
    }
   ],
   "source": [
    "# Pattern 1 \n",
    "print(\"Pattern 1\")\n",
    "\n",
    "# Initialize variables \n",
    "i = 1\n",
    "j = 1\n",
    "\n",
    "# while loop\n",
    "while i < 5:\n",
    "    # nested while\n",
    "    while j <= i:\n",
    "        # printed j without space\n",
    "        print(j, end=\"\")\n",
    "        # increment j by 1\n",
    "        j += 1\n",
    "    # print new line\n",
    "    print()\n",
    "    # reset value of j\n",
    "    j = 1\n",
    "    # increment value of i by 1\n",
    "    i += 1\n",
    "\n",
    "print(\"----------------------------------------------------------------\")\n",
    "\n",
    "print(\"Pattern 2\")\n",
    "# initialize variables \n",
    "i = 1\n",
    "j = 1\n",
    "\n",
    "# while loop\n",
    "while i<5:\n",
    "    # nested while\n",
    "    while j <=i:\n",
    "        # printed * without space\n",
    "        print(\"*\", end=\"\")\n",
    "        # increment j by 1\n",
    "        j += 1\n",
    "    # print new line\n",
    "    print()\n",
    "    # reset value of j\n",
    "    j=1\n",
    "    # increment value of i by 1\n",
    "    i+=1\n",
    "\n",
    "print(\"----------------------------------------------------------------\")\n",
    "\n",
    "print(\"Pattern 3\")\n",
    "# initialize variables \n",
    "i = 1\n",
    "j = 1\n",
    "\n",
    "# while loop\n",
    "while i<10:\n",
    "    # nested while\n",
    "    while j<10:\n",
    "        # printed smile with smile using Unicode associated with it\n",
    "        print(\"\\U0001f600\\U0001f600\", end=\"\\U0001F606\")\n",
    "        # increment j by 1\n",
    "        j+=1\n",
    "    # print new line\n",
    "    print()\n",
    "    # reset value of j\n",
    "    j=1\n",
    "    # increment value of i by 1\n",
    "    i+=1"
   ]
  },
  {
   "cell_type": "markdown",
   "metadata": {},
   "source": [
    "### 7. reverse a while loop to display the numbers from 10 to 1"
   ]
  },
  {
   "cell_type": "code",
   "execution_count": 7,
   "metadata": {},
   "outputs": [
    {
     "name": "stdout",
     "output_type": "stream",
     "text": [
      "10\n",
      "9\n",
      "8\n",
      "7\n",
      "6\n",
      "5\n",
      "4\n",
      "3\n",
      "2\n",
      "1\n"
     ]
    }
   ],
   "source": [
    "# variable declaration\n",
    "upperBound=10\n",
    "lowerBound=1\n",
    "\n",
    "# while loop\n",
    "while upperBound>=lowerBound:\n",
    "    # print upperBound\n",
    "    print(upperBound)\n",
    "    # decrement upperBound by 1\n",
    "    upperBound-=1"
   ]
  },
  {
   "cell_type": "markdown",
   "metadata": {},
   "source": [
    "### 8. reverse a while loop to display the numbers from 10 to 1"
   ]
  },
  {
   "cell_type": "code",
   "execution_count": 8,
   "metadata": {},
   "outputs": [
    {
     "name": "stdout",
     "output_type": "stream",
     "text": [
      "10\n",
      "9\n",
      "8\n",
      "7\n",
      "6\n",
      "5\n",
      "4\n",
      "3\n",
      "2\n",
      "1\n"
     ]
    }
   ],
   "source": [
    "# variable declaration\n",
    "upperBound=10\n",
    "lowerBound=1\n",
    "\n",
    "# while loop\n",
    "while upperBound>=lowerBound:\n",
    "    # print upperBound\n",
    "    print(upperBound)\n",
    "    # decrement upperBound by 1\n",
    "    upperBound-=1"
   ]
  },
  {
   "cell_type": "code",
   "execution_count": null,
   "metadata": {},
   "outputs": [],
   "source": []
  }
 ],
 "metadata": {
  "kernelspec": {
   "display_name": "Python 3.8.10 64-bit",
   "language": "python",
   "name": "python3"
  },
  "language_info": {
   "codemirror_mode": {
    "name": "ipython",
    "version": 3
   },
   "file_extension": ".py",
   "mimetype": "text/x-python",
   "name": "python",
   "nbconvert_exporter": "python",
   "pygments_lexer": "ipython3",
   "version": "3.8.10"
  },
  "orig_nbformat": 4,
  "vscode": {
   "interpreter": {
    "hash": "e7370f93d1d0cde622a1f8e1c04877d8463912d04d973331ad4851f04de6915a"
   }
  }
 },
 "nbformat": 4,
 "nbformat_minor": 2
}
