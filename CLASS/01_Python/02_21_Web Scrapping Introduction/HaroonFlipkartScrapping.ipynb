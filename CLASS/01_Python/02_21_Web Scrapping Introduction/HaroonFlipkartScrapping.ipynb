{
 "cells": [
  {
   "cell_type": "code",
   "execution_count": 1,
   "metadata": {},
   "outputs": [],
   "source": [
    "import requests\n",
    "from bs4 import BeautifulSoup as bs\n",
    "from urllib.request import urlopen as uReq\n",
    "import logging"
   ]
  },
  {
   "cell_type": "code",
   "execution_count": 2,
   "metadata": {},
   "outputs": [],
   "source": [
    "flipkart_url = \"https://www.flipkart.com/search?q=\" + \"infinixnote125g\""
   ]
  },
  {
   "cell_type": "code",
   "execution_count": 3,
   "metadata": {},
   "outputs": [],
   "source": [
    "urlClient = uReq(flipkart_url)"
   ]
  },
  {
   "cell_type": "code",
   "execution_count": 4,
   "metadata": {},
   "outputs": [],
   "source": [
    "flipkart_page = urlClient.read()"
   ]
  },
  {
   "cell_type": "code",
   "execution_count": 5,
   "metadata": {},
   "outputs": [],
   "source": [
    "flipkart_html = bs(flipkart_page,\"html.parser\")"
   ]
  },
  {
   "cell_type": "code",
   "execution_count": 6,
   "metadata": {},
   "outputs": [
    {
     "data": {
      "text/plain": [
       "'https://www.flipkart.com/apple-iphone-12-pro-silver-512-gb/p/itm0ccf9fc219a71?pid=MOBFWBYZ5UY6ZBVA&lid=LSTMOBFWBYZ5UY6ZBVASXARTV&marketplace=FLIPKART&q=iphone12pro&store=tyy%2F4io&srno=s_1_1&otracker=search&otracker1=search&fm=Search&iid=72af540c-b7da-426b-85c1-2224107ca203.MOBFWBYZ5UY6ZBVA.SEARCH&ppt=sp&ppn=sp&ssid=vxm26mn0z40000001677325716822&qH=712933e6bd68e7b9'"
      ]
     },
     "execution_count": 6,
     "metadata": {},
     "output_type": "execute_result"
    }
   ],
   "source": [
    "\"https://www.flipkart.com\"+ \"/apple-iphone-12-pro-silver-512-gb/p/itm0ccf9fc219a71?pid=MOBFWBYZ5UY6ZBVA&lid=LSTMOBFWBYZ5UY6ZBVASXARTV&marketplace=FLIPKART&q=iphone12pro&store=tyy%2F4io&srno=s_1_1&otracker=search&otracker1=search&fm=Search&iid=72af540c-b7da-426b-85c1-2224107ca203.MOBFWBYZ5UY6ZBVA.SEARCH&ppt=sp&ppn=sp&ssid=vxm26mn0z40000001677325716822&qH=712933e6bd68e7b9\""
   ]
  },
  {
   "cell_type": "code",
   "execution_count": 7,
   "metadata": {},
   "outputs": [],
   "source": [
    "bigbox = flipkart_html.findAll(\"div\", {\"class\": \"_1AtVbE col-12-12\"})"
   ]
  },
  {
   "cell_type": "code",
   "execution_count": 8,
   "metadata": {},
   "outputs": [
    {
     "data": {
      "text/plain": [
       "30"
      ]
     },
     "execution_count": 8,
     "metadata": {},
     "output_type": "execute_result"
    }
   ],
   "source": [
    "len(bigbox)"
   ]
  },
  {
   "cell_type": "code",
   "execution_count": 9,
   "metadata": {},
   "outputs": [],
   "source": [
    "productLink = \"https://www.flipkart.com\" + bigbox[2].div.div.div.a['href']"
   ]
  },
  {
   "cell_type": "code",
   "execution_count": 10,
   "metadata": {},
   "outputs": [
    {
     "name": "stdout",
     "output_type": "stream",
     "text": [
      "https://www.flipkart.com/infinix-note-5-ice-blue-32-gb/p/itmf84r83q9zz8x6?pid=MOBF84R8BZYUNJH9&lid=LSTMOBF84R8BZYUNJH9SILR7I&marketplace=FLIPKART&q=infinixnote125g&store=tyy%2F4io&srno=s_1_1&otracker=search&fm=organic&iid=4d9f4e46-75d9-48b3-bf4e-8d840fc62cb8.MOBF84R8BZYUNJH9.SEARCH&ppt=None&ppn=None&ssid=wfgp6h47pc0000001677738686786&qH=528fc6304ef7a1ae\n",
      "https://www.flipkart.com/infinix-note-5-berlin-gray-32-gb/p/itmf84r83q9zz8x6?pid=MOBF84R8KTMS8MHB&lid=LSTMOBF84R8KTMS8MHB2BGB44&marketplace=FLIPKART&q=infinixnote125g&store=tyy%2F4io&srno=s_1_2&otracker=search&fm=organic&iid=4d9f4e46-75d9-48b3-bf4e-8d840fc62cb8.MOBF84R8KTMS8MHB.SEARCH&ppt=None&ppn=None&ssid=wfgp6h47pc0000001677738686786&qH=528fc6304ef7a1ae\n",
      "https://www.flipkart.com/infinix-note-5-berlin-gray-64-gb/p/itmf84r8hrdzuzvf?pid=MOBF84R89ECB9GZG&lid=LSTMOBF84R89ECB9GZGRH03O0&marketplace=FLIPKART&q=infinixnote125g&store=tyy%2F4io&srno=s_1_3&otracker=search&fm=organic&iid=4d9f4e46-75d9-48b3-bf4e-8d840fc62cb8.MOBF84R89ECB9GZG.SEARCH&ppt=None&ppn=None&ssid=wfgp6h47pc0000001677738686786&qH=528fc6304ef7a1ae\n",
      "https://www.flipkart.com/infinix-note-5-milan-black-64-gb/p/itmf84r8hrdzuzvf?pid=MOBF84R8QJMU6KTF&lid=LSTMOBF84R8QJMU6KTFQKE6EC&marketplace=FLIPKART&q=infinixnote125g&store=tyy%2F4io&srno=s_1_4&otracker=search&fm=organic&iid=4d9f4e46-75d9-48b3-bf4e-8d840fc62cb8.MOBF84R8QJMU6KTF.SEARCH&ppt=None&ppn=None&ssid=wfgp6h47pc0000001677738686786&qH=528fc6304ef7a1ae\n",
      "https://www.flipkart.com/infinix-note-5-milan-black-32-gb/p/itmf84r83q9zz8x6?pid=MOBF84R8UBGBHBWA&lid=LSTMOBF84R8UBGBHBWAXQ30L6&marketplace=FLIPKART&q=infinixnote125g&store=tyy%2F4io&srno=s_1_5&otracker=search&fm=organic&iid=4d9f4e46-75d9-48b3-bf4e-8d840fc62cb8.MOBF84R8UBGBHBWA.SEARCH&ppt=None&ppn=None&ssid=wfgp6h47pc0000001677738686786&qH=528fc6304ef7a1ae\n",
      "https://www.flipkart.com/infinix-note-5-ice-blue-64-gb/p/itmf84r8hrdzuzvf?pid=MOBF84R8XBBNSGYQ&lid=LSTMOBF84R8XBBNSGYQV8OTHD&marketplace=FLIPKART&q=infinixnote125g&store=tyy%2F4io&srno=s_1_6&otracker=search&fm=organic&iid=4d9f4e46-75d9-48b3-bf4e-8d840fc62cb8.MOBF84R8XBBNSGYQ.SEARCH&ppt=None&ppn=None&ssid=wfgp6h47pc0000001677738686786&qH=528fc6304ef7a1ae\n",
      "https://www.flipkart.com/infinix-note-12i-metaverse-blue-64-gb/p/itmf9bf9f4663d76?pid=MOBGHXSMDYKEERRW&lid=LSTMOBGHXSMDYKEERRWYNYXTE&marketplace=FLIPKART&q=infinixnote125g&store=tyy%2F4io&srno=s_1_7&otracker=search&fm=organic&iid=4d9f4e46-75d9-48b3-bf4e-8d840fc62cb8.MOBGHXSMDYKEERRW.SEARCH&ppt=None&ppn=None&ssid=wfgp6h47pc0000001677738686786&qH=528fc6304ef7a1ae\n",
      "https://www.flipkart.com/infinix-note-12i-force-black-64-gb/p/itmf9bf9f4663d76?pid=MOBGHXSMGZTRYYVY&lid=LSTMOBGHXSMGZTRYYVY0LVBSW&marketplace=FLIPKART&q=infinixnote125g&store=tyy%2F4io&srno=s_1_8&otracker=search&fm=organic&iid=4d9f4e46-75d9-48b3-bf4e-8d840fc62cb8.MOBGHXSMGZTRYYVY.SEARCH&ppt=None&ppn=None&ssid=wfgp6h47pc0000001677738686786&qH=528fc6304ef7a1ae\n",
      "https://www.flipkart.com/infinix-note-12i-alpine-white-64-gb/p/itmf9bf9f4663d76?pid=MOBGHXSMYN9CA9HT&lid=LSTMOBGHXSMYN9CA9HTAT7OJE&marketplace=FLIPKART&q=infinixnote125g&store=tyy%2F4io&srno=s_1_9&otracker=search&fm=organic&iid=4d9f4e46-75d9-48b3-bf4e-8d840fc62cb8.MOBGHXSMYN9CA9HT.SEARCH&ppt=None&ppn=None&ssid=wfgp6h47pc0000001677738686786&qH=528fc6304ef7a1ae\n",
      "https://www.flipkart.com/infinix-note-12-5g-force-black-64-gb/p/itm5ecefb03f3ffc?pid=MOBGFGVXFAY9A5Z3&lid=LSTMOBGFGVXFAY9A5Z3ROHR5E&marketplace=FLIPKART&q=infinixnote125g&store=tyy%2F4io&srno=s_1_10&otracker=search&fm=organic&iid=4d9f4e46-75d9-48b3-bf4e-8d840fc62cb8.MOBGFGVXFAY9A5Z3.SEARCH&ppt=None&ppn=None&ssid=wfgp6h47pc0000001677738686786&qH=528fc6304ef7a1ae\n",
      "https://www.flipkart.com/infinix-note-12-5g-snowfall-64-gb/p/itm5ecefb03f3ffc?pid=MOBGFGVXV3SYNHQ6&lid=LSTMOBGFGVXV3SYNHQ6DCYZAJ&marketplace=FLIPKART&q=infinixnote125g&store=tyy%2F4io&srno=s_1_11&otracker=search&fm=organic&iid=4d9f4e46-75d9-48b3-bf4e-8d840fc62cb8.MOBGFGVXV3SYNHQ6.SEARCH&ppt=None&ppn=None&ssid=wfgp6h47pc0000001677738686786&qH=528fc6304ef7a1ae\n",
      "https://www.flipkart.com/infinix-note-12-jewel-blue-64-gb/p/itm8d7ef81209637?pid=MOBGE5X3ZYWNQPGF&lid=LSTMOBGE5X3ZYWNQPGFBHNOY6&marketplace=FLIPKART&q=infinixnote125g&store=tyy%2F4io&srno=s_1_12&otracker=search&fm=organic&iid=4d9f4e46-75d9-48b3-bf4e-8d840fc62cb8.MOBGE5X3ZYWNQPGF.SEARCH&ppt=None&ppn=None&ssid=wfgp6h47pc0000001677738686786&qH=528fc6304ef7a1ae\n",
      "https://www.flipkart.com/infinix-note-12-pro-5g-force-black-128-gb/p/itm0812c7355f48a?pid=MOBGFGVXVMTFJGTD&lid=LSTMOBGFGVXVMTFJGTDOEQVVB&marketplace=FLIPKART&q=infinixnote125g&store=tyy%2F4io&srno=s_1_13&otracker=search&fm=organic&iid=4d9f4e46-75d9-48b3-bf4e-8d840fc62cb8.MOBGFGVXVMTFJGTD.SEARCH&ppt=None&ppn=None&ssid=wfgp6h47pc0000001677738686786&qH=528fc6304ef7a1ae\n",
      "https://www.flipkart.com/infinix-note-12-pro-volcanic-grey-256-gb/p/itm44828f6631a9a?pid=MOBGHBK3CAWBRGNH&lid=LSTMOBGHBK3CAWBRGNHHWPNVM&marketplace=FLIPKART&q=infinixnote125g&store=tyy%2F4io&srno=s_1_14&otracker=search&fm=organic&iid=4d9f4e46-75d9-48b3-bf4e-8d840fc62cb8.MOBGHBK3CAWBRGNH.SEARCH&ppt=None&ppn=None&ssid=wfgp6h47pc0000001677738686786&qH=528fc6304ef7a1ae\n",
      "https://www.flipkart.com/infinix-note-12-pro-tuscany-blue-256-gb/p/itm44828f6631a9a?pid=MOBGHBK3BHGUXAFZ&lid=LSTMOBGHBK3BHGUXAFZGLKQHQ&marketplace=FLIPKART&q=infinixnote125g&store=tyy%2F4io&srno=s_1_15&otracker=search&fm=organic&iid=4d9f4e46-75d9-48b3-bf4e-8d840fc62cb8.MOBGHBK3BHGUXAFZ.SEARCH&ppt=None&ppn=None&ssid=wfgp6h47pc0000001677738686786&qH=528fc6304ef7a1ae\n",
      "https://www.flipkart.com/infinix-note-12-force-black-64-gb/p/itm8d7ef81209637?pid=MOBGE5X3YU5QSUYA&lid=LSTMOBGE5X3YU5QSUYAQZTSON&marketplace=FLIPKART&q=infinixnote125g&store=tyy%2F4io&srno=s_1_16&otracker=search&fm=organic&iid=4d9f4e46-75d9-48b3-bf4e-8d840fc62cb8.MOBGE5X3YU5QSUYA.SEARCH&ppt=None&ppn=None&ssid=wfgp6h47pc0000001677738686786&qH=528fc6304ef7a1ae\n",
      "https://www.flipkart.com/infinix-note-12-pro-5g-snowfall-128-gb/p/itm0812c7355f48a?pid=MOBGFGVXPBSV9FG6&lid=LSTMOBGFGVXPBSV9FG6OBADHP&marketplace=FLIPKART&q=infinixnote125g&store=tyy%2F4io&srno=s_1_17&otracker=search&fm=organic&iid=4d9f4e46-75d9-48b3-bf4e-8d840fc62cb8.MOBGFGVXPBSV9FG6.SEARCH&ppt=None&ppn=None&ssid=wfgp6h47pc0000001677738686786&qH=528fc6304ef7a1ae\n",
      "https://www.flipkart.com/infinix-note-12-jewel-blue-128-gb/p/itm8d7ef81209637?pid=MOBGE5X3KYHNMN8V&lid=LSTMOBGE5X3KYHNMN8VS33BVQ&marketplace=FLIPKART&q=infinixnote125g&store=tyy%2F4io&srno=s_1_18&otracker=search&fm=organic&iid=4d9f4e46-75d9-48b3-bf4e-8d840fc62cb8.MOBGE5X3KYHNMN8V.SEARCH&ppt=None&ppn=None&ssid=wfgp6h47pc0000001677738686786&qH=528fc6304ef7a1ae\n",
      "https://www.flipkart.com/infinix-note-12-force-black-128-gb/p/itm8d7ef81209637?pid=MOBGE5X3Z6DGJMZD&lid=LSTMOBGE5X3Z6DGJMZDM2ECPS&marketplace=FLIPKART&q=infinixnote125g&store=tyy%2F4io&srno=s_1_19&otracker=search&fm=organic&iid=4d9f4e46-75d9-48b3-bf4e-8d840fc62cb8.MOBGE5X3Z6DGJMZD.SEARCH&ppt=None&ppn=None&ssid=wfgp6h47pc0000001677738686786&qH=528fc6304ef7a1ae\n",
      "https://www.flipkart.com/infinix-note-11s-free-fire-symphony-cyan-128-gb/p/itmebd3588b241d9?pid=MOBGAENVCBNWPZJR&lid=LSTMOBGAENVCBNWPZJRENUGXP&marketplace=FLIPKART&q=infinixnote125g&store=tyy%2F4io&srno=s_1_20&otracker=search&fm=organic&iid=4d9f4e46-75d9-48b3-bf4e-8d840fc62cb8.MOBGAENVCBNWPZJR.SEARCH&ppt=None&ppn=None&ssid=wfgp6h47pc0000001677738686786&qH=528fc6304ef7a1ae\n",
      "https://www.flipkart.com/infinix-note-11s-free-fire-haze-green-128-gb/p/itmebd3588b241d9?pid=MOBG9ACWTQWZSPY4&lid=LSTMOBG9ACWTQWZSPY4N8JL8V&marketplace=FLIPKART&q=infinixnote125g&store=tyy%2F4io&srno=s_1_21&otracker=search&fm=organic&iid=4d9f4e46-75d9-48b3-bf4e-8d840fc62cb8.MOBG9ACWTQWZSPY4.SEARCH&ppt=None&ppn=None&ssid=wfgp6h47pc0000001677738686786&qH=528fc6304ef7a1ae\n",
      "https://www.flipkart.com/infinix-note-11-graphite-black-64-gb/p/itm37cf75bb103f9?pid=MOBG9ACWSETYGFAT&lid=LSTMOBG9ACWSETYGFAT5MGY27&marketplace=FLIPKART&q=infinixnote125g&store=tyy%2F4io&srno=s_1_22&otracker=search&fm=organic&iid=4d9f4e46-75d9-48b3-bf4e-8d840fc62cb8.MOBG9ACWSETYGFAT.SEARCH&ppt=None&ppn=None&ssid=wfgp6h47pc0000001677738686786&qH=528fc6304ef7a1ae\n",
      "https://www.flipkart.com/infinix-note-11-glacier-green-64-gb/p/itm37cf75bb103f9?pid=MOBG9ACWZRMGYNXJ&lid=LSTMOBG9ACWZRMGYNXJQJM5OG&marketplace=FLIPKART&q=infinixnote125g&store=tyy%2F4io&srno=s_1_23&otracker=search&fm=organic&iid=4d9f4e46-75d9-48b3-bf4e-8d840fc62cb8.MOBG9ACWZRMGYNXJ.SEARCH&ppt=None&ppn=None&ssid=wfgp6h47pc0000001677738686786&qH=528fc6304ef7a1ae\n",
      "https://www.flipkart.com/infinix-note-12-turbo-jewel-blue-128-gb/p/itmeb0ceec27e1a8?pid=MOBGE5X3PRNJU8G8&lid=LSTMOBGE5X3PRNJU8G8F5BVCR&marketplace=FLIPKART&q=infinixnote125g&store=tyy%2F4io&srno=s_1_24&otracker=search&fm=organic&iid=4d9f4e46-75d9-48b3-bf4e-8d840fc62cb8.MOBGE5X3PRNJU8G8.SEARCH&ppt=None&ppn=None&ssid=wfgp6h47pc0000001677738686786&qH=528fc6304ef7a1ae\n"
     ]
    },
    {
     "ename": "AttributeError",
     "evalue": "'NoneType' object has no attribute 'a'",
     "output_type": "error",
     "traceback": [
      "\u001b[0;31m---------------------------------------------------------------------------\u001b[0m",
      "\u001b[0;31mAttributeError\u001b[0m                            Traceback (most recent call last)",
      "Cell \u001b[0;32mIn[10], line 3\u001b[0m\n\u001b[1;32m      1\u001b[0m \u001b[38;5;66;03m# 0 to 1 is not product class\u001b[39;00m\n\u001b[1;32m      2\u001b[0m \u001b[38;5;28;01mfor\u001b[39;00m i \u001b[38;5;129;01min\u001b[39;00m bigbox[\u001b[38;5;241m2\u001b[39m:]:\n\u001b[0;32m----> 3\u001b[0m     \u001b[38;5;28mprint\u001b[39m(\u001b[38;5;124m\"\u001b[39m\u001b[38;5;124mhttps://www.flipkart.com\u001b[39m\u001b[38;5;124m\"\u001b[39m \u001b[38;5;241m+\u001b[39m \u001b[43mi\u001b[49m\u001b[38;5;241;43m.\u001b[39;49m\u001b[43mdiv\u001b[49m\u001b[38;5;241;43m.\u001b[39;49m\u001b[43mdiv\u001b[49m\u001b[38;5;241;43m.\u001b[39;49m\u001b[43mdiv\u001b[49m\u001b[38;5;241;43m.\u001b[39;49m\u001b[43ma\u001b[49m[\u001b[38;5;124m'\u001b[39m\u001b[38;5;124mhref\u001b[39m\u001b[38;5;124m'\u001b[39m])\n",
      "\u001b[0;31mAttributeError\u001b[0m: 'NoneType' object has no attribute 'a'"
     ]
    }
   ],
   "source": [
    "# 0 to 1 is not product class\n",
    "for i in bigbox[2:]:\n",
    "    print(\"https://www.flipkart.com\" + i.div.div.div.a['href'])"
   ]
  },
  {
   "cell_type": "code",
   "execution_count": 11,
   "metadata": {},
   "outputs": [],
   "source": [
    "product_req = requests.get(productLink)"
   ]
  },
  {
   "cell_type": "code",
   "execution_count": 12,
   "metadata": {},
   "outputs": [
    {
     "data": {
      "text/plain": [
       "'https://www.flipkart.com/infinix-note-5-ice-blue-32-gb/p/itmf84r83q9zz8x6?pid=MOBF84R8BZYUNJH9&lid=LSTMOBF84R8BZYUNJH9SILR7I&marketplace=FLIPKART&q=infinixnote125g&store=tyy%2F4io&srno=s_1_1&otracker=search&fm=organic&iid=4d9f4e46-75d9-48b3-bf4e-8d840fc62cb8.MOBF84R8BZYUNJH9.SEARCH&ppt=None&ppn=None&ssid=wfgp6h47pc0000001677738686786&qH=528fc6304ef7a1ae'"
      ]
     },
     "execution_count": 12,
     "metadata": {},
     "output_type": "execute_result"
    }
   ],
   "source": [
    "productLink"
   ]
  },
  {
   "cell_type": "code",
   "execution_count": 13,
   "metadata": {},
   "outputs": [],
   "source": [
    "product_html = bs(product_req.text, 'html.parser')"
   ]
  },
  {
   "cell_type": "code",
   "execution_count": 14,
   "metadata": {},
   "outputs": [],
   "source": [
    "comment_box = product_html.findAll('div',{'class':'_16PBlm'})"
   ]
  },
  {
   "cell_type": "code",
   "execution_count": 15,
   "metadata": {},
   "outputs": [
    {
     "data": {
      "text/plain": [
       "11"
      ]
     },
     "execution_count": 15,
     "metadata": {},
     "output_type": "execute_result"
    }
   ],
   "source": [
    "len(comment_box)"
   ]
  },
  {
   "cell_type": "code",
   "execution_count": 16,
   "metadata": {},
   "outputs": [
    {
     "data": {
      "text/plain": [
       "'Sweety Bhushan'"
      ]
     },
     "execution_count": 16,
     "metadata": {},
     "output_type": "execute_result"
    }
   ],
   "source": [
    "# name\n",
    "comment_box[0].div.div.findAll('p',{'class':'_2sc7ZR _2V5EHH'})[0].text"
   ]
  },
  {
   "cell_type": "code",
   "execution_count": 17,
   "metadata": {},
   "outputs": [
    {
     "name": "stdout",
     "output_type": "stream",
     "text": [
      "Sweety Bhushan\n",
      "Nagoor Meeran K\n",
      "Rekesh Tiwari\n",
      "MANOJ SHARWA\n",
      "SANTOSH PANDEY\n",
      "Parixit  Singh\n",
      "Mohit Chhabra\n",
      "Flipkart Customer\n",
      "aditya mishra\n",
      "mohammed  yunus\n"
     ]
    },
    {
     "ename": "AttributeError",
     "evalue": "'NoneType' object has no attribute 'div'",
     "output_type": "error",
     "traceback": [
      "\u001b[0;31m---------------------------------------------------------------------------\u001b[0m",
      "\u001b[0;31mAttributeError\u001b[0m                            Traceback (most recent call last)",
      "Cell \u001b[0;32mIn[17], line 2\u001b[0m\n\u001b[1;32m      1\u001b[0m \u001b[38;5;28;01mfor\u001b[39;00m i \u001b[38;5;129;01min\u001b[39;00m comment_box:\n\u001b[0;32m----> 2\u001b[0m     \u001b[38;5;28mprint\u001b[39m(\u001b[43mi\u001b[49m\u001b[38;5;241;43m.\u001b[39;49m\u001b[43mdiv\u001b[49m\u001b[38;5;241;43m.\u001b[39;49m\u001b[43mdiv\u001b[49m\u001b[38;5;241m.\u001b[39mfindAll(\u001b[38;5;124m'\u001b[39m\u001b[38;5;124mp\u001b[39m\u001b[38;5;124m'\u001b[39m,{\u001b[38;5;124m'\u001b[39m\u001b[38;5;124mclass\u001b[39m\u001b[38;5;124m'\u001b[39m:\u001b[38;5;124m'\u001b[39m\u001b[38;5;124m_2sc7ZR _2V5EHH\u001b[39m\u001b[38;5;124m'\u001b[39m})[\u001b[38;5;241m0\u001b[39m]\u001b[38;5;241m.\u001b[39mtext)\n",
      "\u001b[0;31mAttributeError\u001b[0m: 'NoneType' object has no attribute 'div'"
     ]
    }
   ],
   "source": [
    "for i in comment_box:\n",
    "    print(i.div.div.findAll('p',{'class':'_2sc7ZR _2V5EHH'})[0].text)"
   ]
  },
  {
   "cell_type": "code",
   "execution_count": 18,
   "metadata": {},
   "outputs": [
    {
     "data": {
      "text/plain": [
       "'5'"
      ]
     },
     "execution_count": 18,
     "metadata": {},
     "output_type": "execute_result"
    }
   ],
   "source": [
    "# rating\n",
    "comment_box[0].div.div.div.div.text"
   ]
  },
  {
   "cell_type": "code",
   "execution_count": 19,
   "metadata": {},
   "outputs": [
    {
     "name": "stdout",
     "output_type": "stream",
     "text": [
      "5\n",
      "5\n",
      "5\n",
      "4\n",
      "4\n",
      "4\n",
      "5\n",
      "5\n",
      "5\n",
      "5\n"
     ]
    },
    {
     "ename": "AttributeError",
     "evalue": "'NoneType' object has no attribute 'div'",
     "output_type": "error",
     "traceback": [
      "\u001b[0;31m---------------------------------------------------------------------------\u001b[0m",
      "\u001b[0;31mAttributeError\u001b[0m                            Traceback (most recent call last)",
      "Cell \u001b[0;32mIn[19], line 2\u001b[0m\n\u001b[1;32m      1\u001b[0m \u001b[38;5;28;01mfor\u001b[39;00m i \u001b[38;5;129;01min\u001b[39;00m comment_box:\n\u001b[0;32m----> 2\u001b[0m     \u001b[38;5;28mprint\u001b[39m(\u001b[43mi\u001b[49m\u001b[38;5;241;43m.\u001b[39;49m\u001b[43mdiv\u001b[49m\u001b[38;5;241;43m.\u001b[39;49m\u001b[43mdiv\u001b[49m\u001b[38;5;241m.\u001b[39mdiv\u001b[38;5;241m.\u001b[39mdiv\u001b[38;5;241m.\u001b[39mtext)\n",
      "\u001b[0;31mAttributeError\u001b[0m: 'NoneType' object has no attribute 'div'"
     ]
    }
   ],
   "source": [
    "for i in comment_box:\n",
    "    print(i.div.div.div.div.text)"
   ]
  },
  {
   "cell_type": "code",
   "execution_count": 20,
   "metadata": {},
   "outputs": [
    {
     "data": {
      "text/plain": [
       "'Best in the market!'"
      ]
     },
     "execution_count": 20,
     "metadata": {},
     "output_type": "execute_result"
    }
   ],
   "source": [
    "# comment heading\n",
    "comment_box[0].div.div.div.p.text"
   ]
  },
  {
   "cell_type": "code",
   "execution_count": 21,
   "metadata": {},
   "outputs": [
    {
     "name": "stdout",
     "output_type": "stream",
     "text": [
      "Best in the market!\n",
      "Highly recommended\n",
      "Great product\n",
      "Worth the money\n",
      "Under 10 thousand the best choice\n",
      "Worth the money\n",
      "Best for the price.\n",
      "Fabulous!\n",
      "Highly recommended\n",
      "Great product\n"
     ]
    },
    {
     "ename": "AttributeError",
     "evalue": "'NoneType' object has no attribute 'div'",
     "output_type": "error",
     "traceback": [
      "\u001b[0;31m---------------------------------------------------------------------------\u001b[0m",
      "\u001b[0;31mAttributeError\u001b[0m                            Traceback (most recent call last)",
      "Cell \u001b[0;32mIn[21], line 2\u001b[0m\n\u001b[1;32m      1\u001b[0m \u001b[38;5;28;01mfor\u001b[39;00m i \u001b[38;5;129;01min\u001b[39;00m comment_box:\n\u001b[0;32m----> 2\u001b[0m     \u001b[38;5;28mprint\u001b[39m(\u001b[43mi\u001b[49m\u001b[38;5;241;43m.\u001b[39;49m\u001b[43mdiv\u001b[49m\u001b[38;5;241;43m.\u001b[39;49m\u001b[43mdiv\u001b[49m\u001b[38;5;241m.\u001b[39mdiv\u001b[38;5;241m.\u001b[39mp\u001b[38;5;241m.\u001b[39mtext)\n",
      "\u001b[0;31mAttributeError\u001b[0m: 'NoneType' object has no attribute 'div'"
     ]
    }
   ],
   "source": [
    "for i in comment_box:\n",
    "    print(i.div.div.div.p.text)"
   ]
  },
  {
   "cell_type": "code",
   "execution_count": 22,
   "metadata": {},
   "outputs": [
    {
     "data": {
      "text/plain": [
       "\"Thanks to Ekart Logistics for the superfast delivery! Got my mobile within 24 hours after placing the order!Packaging was excellent this time..The phone looks stunning!!Performance is excellent for the price! ✓Front Camera is awesome! ✓Looks very premium! ✓And most importantly it's part of Android One, so you will get a smooth android experience and regular updates! ✓Overall It's a perfect phone for the price tag!\""
      ]
     },
     "execution_count": 22,
     "metadata": {},
     "output_type": "execute_result"
    }
   ],
   "source": [
    "# comment\n",
    "comment_box[0].div.div.findAll('div',{'class':''})[0].div.text"
   ]
  },
  {
   "cell_type": "code",
   "execution_count": 23,
   "metadata": {},
   "outputs": [
    {
     "name": "stdout",
     "output_type": "stream",
     "text": [
      "Thanks to Ekart Logistics for the superfast delivery! Got my mobile within 24 hours after placing the order!Packaging was excellent this time..The phone looks stunning!!Performance is excellent for the price! ✓Front Camera is awesome! ✓Looks very premium! ✓And most importantly it's part of Android One, so you will get a smooth android experience and regular updates! ✓Overall It's a perfect phone for the price tag!\n",
      "\n",
      "Awesome Phone. Guys please don't under estimate any non popular brands. Infinix is one of the popular brand in Africa. ok let's come to the Review..Only one word it is really awesome mobile simply go for it without any hesitation.1.You will definitely love the sharp and bright display.2. Both Rear and front camera is awesome in this price range. especially bokeah mode is too good.3. Battery is sooper good and rapid charge.4.Processor in this phone is equal to snapdragon 625 so it i...\n",
      "\n",
      "nice phone after update so beautiful camera batery backup good with fast charjing mod beter than redmi note 5 or max zen pro m1\n",
      "\n",
      "Here is my review after 2 days of uses. Hope it'll help you.                                                                                      Let's talk about pros:-                                                                           1. Screen quality is awesome in this price range even better than MI A2 which cost more than this.  2. Android One : Pure vanilla android experience and you'll directly get updates from Google and got 2 updates already.   3. Camera: I personally like th...\n",
      "\n",
      "This is great value phone under 10 thousand1)Camera very good compare to this phone compitior  9/102) Battery is also good 4500 MAH with fast charging no one given this price range 10/103) FHD+ 5.99 screen is also sharp 9/104) 3 GB & 32 Gm memory is ok8/10another phine to given 4/64 GB in this price range5) Google lens is unique feature 6) Andoried one is advantage of this phone7) processer is also good support Dual volte supportANOTHER phone only single sim volte 8) no Heating iss...\n",
      "\n",
      "This is my 4th infinix mobile I have note4,hots3 an smart 2@Pros-- very good battery,nice touch,smooth interface, android one,very fast charging.Cons--very bad back camera,plastic body,both camera not good in indoor....first 2 days after purchase bokeh worked but now bokeh   is not proper working in back camera###Infinix must do something for this!This  is my 4th infinix mobile an I am not satisfied this time my earlier 3 was best in their segment#####\n",
      "\n",
      "This is a really good phone for the price.Pros:Screen size, quality and resolutionBattery lifeBuild quality and weightTriple slotFast charger included in the box (its a bigger deal than you think, even the 1lakh priced iPhone X doesn't include fast charger in the box)MOST IMPORTANTLY Android One experience with 2 years of guaranteed updates. Most android users like stock android experience and you'll get it with this phone.Cons:Slight lag on early usage but gets better with timeCam...\n",
      "\n",
      "excellent product and super fast delivery great work by infinix and Flipkart\n",
      "\n",
      "Pros Build quality of the phone is good Best part it is having Stock Android Battery is massive for single charge of 30 min it can last up to 2 days with heavy usageCamera performance is good in this price rangeNo heating issuesDisplay is amazingCons It's bit slow as compared to other flagship phonesApp takes a bit time to open.Overall_if you need stock Android experience  with massive battery life you can go  in one go.\n",
      "\n",
      "Product wise awesome for basic usage. battery life is good it include fast charger. Camera is okay in indoor, Outdoor is good average. Overall value for money Not for high end usage.\n",
      "\n"
     ]
    },
    {
     "ename": "AttributeError",
     "evalue": "'NoneType' object has no attribute 'div'",
     "output_type": "error",
     "traceback": [
      "\u001b[0;31m---------------------------------------------------------------------------\u001b[0m",
      "\u001b[0;31mAttributeError\u001b[0m                            Traceback (most recent call last)",
      "Cell \u001b[0;32mIn[23], line 2\u001b[0m\n\u001b[1;32m      1\u001b[0m \u001b[38;5;28;01mfor\u001b[39;00m i \u001b[38;5;129;01min\u001b[39;00m comment_box:\n\u001b[0;32m----> 2\u001b[0m     \u001b[38;5;28mprint\u001b[39m(\u001b[43mi\u001b[49m\u001b[38;5;241;43m.\u001b[39;49m\u001b[43mdiv\u001b[49m\u001b[38;5;241;43m.\u001b[39;49m\u001b[43mdiv\u001b[49m\u001b[38;5;241m.\u001b[39mfindAll(\u001b[38;5;124m'\u001b[39m\u001b[38;5;124mdiv\u001b[39m\u001b[38;5;124m'\u001b[39m,{\u001b[38;5;124m'\u001b[39m\u001b[38;5;124mclass\u001b[39m\u001b[38;5;124m'\u001b[39m:\u001b[38;5;124m'\u001b[39m\u001b[38;5;124m'\u001b[39m})[\u001b[38;5;241m0\u001b[39m]\u001b[38;5;241m.\u001b[39mdiv\u001b[38;5;241m.\u001b[39mtext  \u001b[38;5;241m+\u001b[39m \u001b[38;5;124m'\u001b[39m\u001b[38;5;130;01m\\n\u001b[39;00m\u001b[38;5;124m'\u001b[39m)\n",
      "\u001b[0;31mAttributeError\u001b[0m: 'NoneType' object has no attribute 'div'"
     ]
    }
   ],
   "source": [
    "for i in comment_box:\n",
    "    print(i.div.div.findAll('div',{'class':''})[0].div.text  + '\\n')"
   ]
  },
  {
   "cell_type": "code",
   "execution_count": null,
   "metadata": {},
   "outputs": [],
   "source": []
  }
 ],
 "metadata": {
  "kernelspec": {
   "display_name": "Python 3.8.10 64-bit",
   "language": "python",
   "name": "python3"
  },
  "language_info": {
   "codemirror_mode": {
    "name": "ipython",
    "version": 3
   },
   "file_extension": ".py",
   "mimetype": "text/x-python",
   "name": "python",
   "nbconvert_exporter": "python",
   "pygments_lexer": "ipython3",
   "version": "3.8.10"
  },
  "orig_nbformat": 4,
  "vscode": {
   "interpreter": {
    "hash": "e7370f93d1d0cde622a1f8e1c04877d8463912d04d973331ad4851f04de6915a"
   }
  }
 },
 "nbformat": 4,
 "nbformat_minor": 2
}
