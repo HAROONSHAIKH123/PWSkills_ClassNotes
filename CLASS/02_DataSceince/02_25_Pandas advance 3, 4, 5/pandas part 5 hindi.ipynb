{
 "cells": [
  {
   "cell_type": "code",
   "execution_count": null,
   "id": "707579c3-acbb-42b2-aeaa-9b5988597a3b",
   "metadata": {},
   "outputs": [],
   "source": [
    "import pandas as pd"
   ]
  },
  {
   "cell_type": "code",
   "execution_count": null,
   "id": "ea17ae12-250f-4571-a392-c4881810e9a6",
   "metadata": {},
   "outputs": [],
   "source": [
    "data = {\"a\":[1,2,3,4],\n",
    "       \"b\":[4,5,6,7],\n",
    "       \"c\":[\"sudh\" , \"krish\",\"hitesh\",\"navin\"]}"
   ]
  },
  {
   "cell_type": "code",
   "execution_count": null,
   "id": "47c60ce9-2230-45b6-a3fd-f029ddc50cfc",
   "metadata": {},
   "outputs": [],
   "source": [
    "df= pd.DataFrame(data)"
   ]
  },
  {
   "cell_type": "code",
   "execution_count": null,
   "id": "4888b4ee-e086-4f42-89ed-acf92d35af6f",
   "metadata": {},
   "outputs": [],
   "source": [
    "df"
   ]
  },
  {
   "cell_type": "code",
   "execution_count": null,
   "id": "e4e352cb-9baf-441a-b66d-a4194a515b8f",
   "metadata": {},
   "outputs": [],
   "source": [
    "df.set_index('a',inplace=True)"
   ]
  },
  {
   "cell_type": "code",
   "execution_count": null,
   "id": "8c57143a-baa9-4183-bb17-4417ea2ccdf3",
   "metadata": {},
   "outputs": [],
   "source": [
    "df"
   ]
  },
  {
   "cell_type": "code",
   "execution_count": null,
   "id": "81a89f5b-18c4-4f9f-a025-e6503f383bed",
   "metadata": {},
   "outputs": [],
   "source": [
    "df = df.reset_index()"
   ]
  },
  {
   "cell_type": "code",
   "execution_count": null,
   "id": "ff34fb85-8936-4eff-9561-523de3eeb00b",
   "metadata": {},
   "outputs": [],
   "source": [
    "df"
   ]
  },
  {
   "cell_type": "code",
   "execution_count": null,
   "id": "1b4a0f3f-4b0f-4155-8be8-0c31190df568",
   "metadata": {},
   "outputs": [],
   "source": [
    "data = {\"a\":[1,2,3,4],\n",
    "       \"b\":[4,5,6,7],\n",
    "       \"c\":[\"sudh\" , \"krish\",\"hitesh\",\"navin\"]}\n",
    "df1 = pd.DataFrame(data,index = ['a','b','c','d'])"
   ]
  },
  {
   "cell_type": "code",
   "execution_count": null,
   "id": "0532f511-9b68-4c33-be90-5fab51ed305b",
   "metadata": {},
   "outputs": [],
   "source": [
    "df1"
   ]
  },
  {
   "cell_type": "code",
   "execution_count": null,
   "id": "11c588f0-9e2d-421c-9f94-5ea41caac094",
   "metadata": {},
   "outputs": [],
   "source": [
    "df1.reindex(['b','c','d','a'])"
   ]
  },
  {
   "cell_type": "code",
   "execution_count": null,
   "id": "9fb08cf5-da42-4e41-8cc6-e462df7001ca",
   "metadata": {},
   "outputs": [],
   "source": [
    "df1"
   ]
  },
  {
   "cell_type": "code",
   "execution_count": null,
   "id": "a7e96931-4304-4520-90e3-8d2a8bd8fe67",
   "metadata": {},
   "outputs": [],
   "source": [
    "df1"
   ]
  },
  {
   "cell_type": "code",
   "execution_count": null,
   "id": "9e706b43-b90f-4086-9e4f-ecc5fe880bc5",
   "metadata": {},
   "outputs": [],
   "source": [
    "for i,j in df1.iterrows():\n",
    "    print( j)"
   ]
  },
  {
   "cell_type": "code",
   "execution_count": null,
   "id": "3056e66e-16d3-462f-ae0a-c0146e8bbc93",
   "metadata": {},
   "outputs": [],
   "source": [
    "df1"
   ]
  },
  {
   "cell_type": "code",
   "execution_count": null,
   "id": "25fe18e7-19dd-444b-a19a-6ab41c17e2e3",
   "metadata": {},
   "outputs": [],
   "source": [
    "for col_name , column in df1.iteritems():\n",
    "    print( col_name , column)"
   ]
  },
  {
   "cell_type": "code",
   "execution_count": null,
   "id": "545d47b2-68a0-4d8f-a829-79f8808b20c8",
   "metadata": {},
   "outputs": [],
   "source": [
    "df1"
   ]
  },
  {
   "cell_type": "code",
   "execution_count": null,
   "id": "e773f102-6ee5-40f1-96f8-3a2088933332",
   "metadata": {},
   "outputs": [],
   "source": [
    "df1\n"
   ]
  },
  {
   "cell_type": "code",
   "execution_count": null,
   "id": "a3e101a3-b61d-407d-b916-03d7f1e02b95",
   "metadata": {},
   "outputs": [],
   "source": [
    "list(df['a'])"
   ]
  },
  {
   "cell_type": "code",
   "execution_count": null,
   "id": "f1efa0cf-c8b5-4950-ac10-d34b9e9663eb",
   "metadata": {},
   "outputs": [],
   "source": [
    "[i for i in df['a']]"
   ]
  },
  {
   "cell_type": "code",
   "execution_count": null,
   "id": "b3d24dc6-420b-4df8-b5b4-3417e129a688",
   "metadata": {},
   "outputs": [],
   "source": [
    "df1"
   ]
  },
  {
   "cell_type": "code",
   "execution_count": null,
   "id": "c8423ffb-9941-49b5-8620-892c591f2964",
   "metadata": {},
   "outputs": [],
   "source": [
    "def test(x):\n",
    "    return x.sum()\n",
    "df1.apply(test,axis=0)"
   ]
  },
  {
   "cell_type": "code",
   "execution_count": null,
   "id": "8f20a534-0c55-43d2-9da2-fbb0a049a5d4",
   "metadata": {},
   "outputs": [],
   "source": [
    "df2 = df1[['a','b']]"
   ]
  },
  {
   "cell_type": "code",
   "execution_count": null,
   "id": "041162c2-6fc5-454b-a2ea-eee0043b1b91",
   "metadata": {},
   "outputs": [],
   "source": [
    "df2"
   ]
  },
  {
   "cell_type": "code",
   "execution_count": null,
   "id": "6ef6ab8a-6f4c-4b71-b1f4-f41a7eee7204",
   "metadata": {},
   "outputs": [],
   "source": [
    "df2.applymap(lambda x : x**2)"
   ]
  },
  {
   "cell_type": "code",
   "execution_count": null,
   "id": "3852a06c-a643-4870-8b9a-096af53ba25e",
   "metadata": {},
   "outputs": [],
   "source": [
    "df1"
   ]
  },
  {
   "cell_type": "code",
   "execution_count": null,
   "id": "15993776-269a-48df-9f19-b363ecd5ea71",
   "metadata": {},
   "outputs": [],
   "source": [
    "df"
   ]
  },
  {
   "cell_type": "code",
   "execution_count": null,
   "id": "83f0b080-d063-4e3e-bed0-3b9a0a2491b5",
   "metadata": {},
   "outputs": [],
   "source": [
    "df.sort_values('c')"
   ]
  },
  {
   "cell_type": "code",
   "execution_count": null,
   "id": "98700a14-9f85-4e9e-badd-fc4b5dab0b45",
   "metadata": {},
   "outputs": [],
   "source": [
    "df"
   ]
  },
  {
   "cell_type": "code",
   "execution_count": null,
   "id": "055705df-a0fe-459e-86fe-e83a01ea6d21",
   "metadata": {},
   "outputs": [],
   "source": [
    "df.sort_index(ascending = False)\n"
   ]
  },
  {
   "cell_type": "code",
   "execution_count": null,
   "id": "b4b2574a-dc93-47f5-8650-df49ebaf57e3",
   "metadata": {},
   "outputs": [],
   "source": [
    "pd.set_option(\"display.max_colwidth\" ,1000)\n",
    "df3 = pd.DataFrame({\"Desc\" :[\"Data Science Masters course is highly curated and uniquely designed according to the latest industry standards. This program instills students the skills essential to knowledge discovery efforts to identify standard, novel, and truly differentiated solutions and decision-making, including skills in managing, querying, analyzing, visualizing, and extracting meaning from extremely large data sets. This trending program provides students with the statistical, mathematical and computational skills needed to meet the large-scale data science challenges of today's professional world. You will learn all the stack required to work in data science industry including cloud infrastructure and real-time industry projects. This course will be taught in Hindi language.\"] })"
   ]
  },
  {
   "cell_type": "code",
   "execution_count": null,
   "id": "b0536601-2753-48bb-994d-c2b2fb1d4a0c",
   "metadata": {},
   "outputs": [],
   "source": [
    "df3"
   ]
  },
  {
   "cell_type": "code",
   "execution_count": null,
   "id": "722b5ffd-1e80-4b9b-983b-bb7991d54b38",
   "metadata": {},
   "outputs": [],
   "source": [
    "pd.set_option(\"display.max_colwidth\" ,1000)\n",
    "df3 = pd.DataFrame({\"Desc\" :[\"Data Science Masters course is highly curated and uniquely designed according to the latest industry standards. This program instills students the skills essential to knowledge discovery efforts to identify standard, novel, and truly differentiated solutions and decision-making, including skills in managing, querying, analyzing, visualizing, and extracting meaning from extremely large data sets. This trending program provides students with the statistical, mathematical and computational skills needed to meet the large-scale data science challenges of today's professional world. You will learn all the stack required to work in data science industry including cloud infrastructure and real-time industry projects. This course will be taught in Hindi language.\" , \"my name is sudh\" ,\"i use to teach data science \"] })"
   ]
  },
  {
   "cell_type": "code",
   "execution_count": null,
   "id": "beb81133-117d-4b8f-9158-1ae135e2a63b",
   "metadata": {},
   "outputs": [],
   "source": [
    "df3"
   ]
  },
  {
   "cell_type": "code",
   "execution_count": null,
   "id": "63abbf5f-eed8-4456-a881-3743fbd6dfc9",
   "metadata": {},
   "outputs": [],
   "source": [
    "df3['len'] = df3['Desc'].apply(len)"
   ]
  },
  {
   "cell_type": "code",
   "execution_count": null,
   "id": "4dd681af-6c8c-41de-81b0-886ac77968a1",
   "metadata": {},
   "outputs": [],
   "source": [
    "df3"
   ]
  },
  {
   "cell_type": "code",
   "execution_count": null,
   "id": "4d386258-6327-49d5-9ed3-c4be57d5a21c",
   "metadata": {},
   "outputs": [],
   "source": [
    "t =\"i use to teach data science\t\"\n",
    "len(t.split())"
   ]
  },
  {
   "cell_type": "code",
   "execution_count": null,
   "id": "a9cab3c8-5686-4d08-a8e9-d2ddf75239f5",
   "metadata": {},
   "outputs": [],
   "source": [
    "df3['word_count'] = df3['Desc'].apply(lambda x :len(x.split()))"
   ]
  },
  {
   "cell_type": "code",
   "execution_count": null,
   "id": "4f9409d2-c700-41bb-9254-874183ab8b36",
   "metadata": {},
   "outputs": [],
   "source": [
    "df3"
   ]
  },
  {
   "cell_type": "code",
   "execution_count": null,
   "id": "ec760379-cba7-460d-abe2-69f2dd46b3e8",
   "metadata": {},
   "outputs": [],
   "source": [
    "df"
   ]
  },
  {
   "cell_type": "code",
   "execution_count": null,
   "id": "eef50b53-3276-4fc4-b3ba-eac054dee405",
   "metadata": {},
   "outputs": [],
   "source": [
    "df['a'][0]"
   ]
  },
  {
   "cell_type": "code",
   "execution_count": null,
   "id": "5149573f-9445-4e29-b8c3-d43e378411af",
   "metadata": {},
   "outputs": [],
   "source": [
    "df"
   ]
  },
  {
   "cell_type": "code",
   "execution_count": null,
   "id": "57df7ffc-2e98-4759-a958-911886e1408a",
   "metadata": {},
   "outputs": [],
   "source": [
    "df['a'].mean()"
   ]
  },
  {
   "cell_type": "code",
   "execution_count": null,
   "id": "96700bcb-24fd-48ff-b523-44a659412c41",
   "metadata": {},
   "outputs": [],
   "source": [
    "df['a'].median()"
   ]
  },
  {
   "cell_type": "code",
   "execution_count": null,
   "id": "3e3433ec-6009-40ad-bfe4-7c6420907da1",
   "metadata": {},
   "outputs": [],
   "source": [
    "df['a'].mode()"
   ]
  },
  {
   "cell_type": "code",
   "execution_count": null,
   "id": "da27fd08-61ee-419d-9596-79f64be036a2",
   "metadata": {},
   "outputs": [],
   "source": [
    "df['a'].std()"
   ]
  },
  {
   "cell_type": "code",
   "execution_count": null,
   "id": "14cea271-27b2-420a-aa10-5cd27287e979",
   "metadata": {},
   "outputs": [],
   "source": [
    "df['a'].sum()"
   ]
  },
  {
   "cell_type": "code",
   "execution_count": null,
   "id": "e06fc08e-dfd1-4bcd-8b1a-ea7efffc49d4",
   "metadata": {},
   "outputs": [],
   "source": [
    "df['a'].min()"
   ]
  },
  {
   "cell_type": "code",
   "execution_count": null,
   "id": "bdf15bdf-22a3-4337-ac7a-e4ad63103bb5",
   "metadata": {},
   "outputs": [],
   "source": [
    "df['a'].max()"
   ]
  },
  {
   "cell_type": "code",
   "execution_count": null,
   "id": "b43370c4-0ddd-4787-a456-c9af1a2339eb",
   "metadata": {},
   "outputs": [],
   "source": [
    "df['a'].var()"
   ]
  },
  {
   "cell_type": "code",
   "execution_count": null,
   "id": "70b49e93-2f43-4b2b-9f7c-b6cf4f08a426",
   "metadata": {},
   "outputs": [],
   "source": [
    "#Python Pandas - Window Functions\n",
    "df4 = pd.DataFrame({'a' : [3,4,5,2,1,3,4,5,6]})"
   ]
  },
  {
   "cell_type": "code",
   "execution_count": null,
   "id": "c248ca72-0341-4661-bace-004c39585615",
   "metadata": {},
   "outputs": [],
   "source": [
    "df4"
   ]
  },
  {
   "cell_type": "code",
   "execution_count": null,
   "id": "9dbe8d64-2c88-49c4-9265-5a4c28e55c5c",
   "metadata": {},
   "outputs": [],
   "source": [
    "df4['a'].rolling(window=1).mean()"
   ]
  },
  {
   "cell_type": "code",
   "execution_count": null,
   "id": "7973d53e-83cb-4d7e-a180-b778bb5c9e95",
   "metadata": {},
   "outputs": [],
   "source": [
    "df4['a'].rolling(window=2).mean()"
   ]
  },
  {
   "cell_type": "code",
   "execution_count": null,
   "id": "dc5aad7d-976c-4fda-8ae9-df40c9b57f77",
   "metadata": {},
   "outputs": [],
   "source": [
    "df4['a'].rolling(window=3).mean()"
   ]
  },
  {
   "cell_type": "code",
   "execution_count": null,
   "id": "fe6b0e29-aa10-4e19-9a97-9a93bbc557a9",
   "metadata": {},
   "outputs": [],
   "source": [
    "df4"
   ]
  },
  {
   "cell_type": "code",
   "execution_count": null,
   "id": "b9f35d14-25f8-4f34-90e7-017047bd4f89",
   "metadata": {},
   "outputs": [],
   "source": [
    "df4['a'].rolling(window=3).sum()"
   ]
  },
  {
   "cell_type": "code",
   "execution_count": null,
   "id": "0cedd395-7754-4984-a675-e180975141eb",
   "metadata": {},
   "outputs": [],
   "source": [
    "df4"
   ]
  },
  {
   "cell_type": "code",
   "execution_count": null,
   "id": "d9980e85-ccd8-495f-b337-c3ffb12babd3",
   "metadata": {},
   "outputs": [],
   "source": [
    "df4['a'].rolling(window=3).min()"
   ]
  },
  {
   "cell_type": "code",
   "execution_count": null,
   "id": "d84062b4-15e2-4be4-a87d-529adb66d0c4",
   "metadata": {},
   "outputs": [],
   "source": [
    "df4['a'].rolling(window=3).max()"
   ]
  },
  {
   "cell_type": "code",
   "execution_count": null,
   "id": "1d754686-00fb-4226-b689-ddb3ab3c3fd5",
   "metadata": {},
   "outputs": [],
   "source": [
    "df4['a'].cumsum()"
   ]
  },
  {
   "cell_type": "code",
   "execution_count": null,
   "id": "895cf9f5-8756-4781-9ebb-fc942538d912",
   "metadata": {},
   "outputs": [],
   "source": [
    "df4"
   ]
  },
  {
   "cell_type": "code",
   "execution_count": null,
   "id": "9db474b4-1e48-4763-89f8-06dc08d8fb58",
   "metadata": {},
   "outputs": [],
   "source": [
    "#Python Pandas - Date Functionality\n",
    "\n",
    "date = pd.date_range(start='2023-04-23' , end = '2023-06-23')"
   ]
  },
  {
   "cell_type": "code",
   "execution_count": null,
   "id": "ce21484f-56c8-4c71-ab20-bd8eaaa87832",
   "metadata": {},
   "outputs": [],
   "source": [
    "date"
   ]
  },
  {
   "cell_type": "code",
   "execution_count": null,
   "id": "85db2941-11e9-4461-aee9-c80e13aaa3b6",
   "metadata": {},
   "outputs": [],
   "source": [
    "df_date = pd.DataFrame({'date':date})"
   ]
  },
  {
   "cell_type": "code",
   "execution_count": null,
   "id": "bad496fd-6575-454d-b646-bcd1ab66d31f",
   "metadata": {},
   "outputs": [],
   "source": [
    "df_date.dtypes"
   ]
  },
  {
   "cell_type": "code",
   "execution_count": null,
   "id": "f4b5e483-4f99-4d1f-ae59-376674835e68",
   "metadata": {},
   "outputs": [],
   "source": [
    "df_date"
   ]
  },
  {
   "cell_type": "code",
   "execution_count": null,
   "id": "30394c43-cfbc-47fc-9799-2b4b17a3afc4",
   "metadata": {},
   "outputs": [],
   "source": [
    "df7 = pd.DataFrame({\"date\" : ['2023-06-23' , '2023-06-22','2023-06-20']})"
   ]
  },
  {
   "cell_type": "code",
   "execution_count": null,
   "id": "62fe6fca-f4a8-417f-9db9-23474885f437",
   "metadata": {},
   "outputs": [],
   "source": [
    "df7"
   ]
  },
  {
   "cell_type": "code",
   "execution_count": null,
   "id": "0614a3b5-d38d-4606-abec-bc5c77d2f02f",
   "metadata": {},
   "outputs": [],
   "source": [
    "df7.dtypes"
   ]
  },
  {
   "cell_type": "code",
   "execution_count": null,
   "id": "0af67686-6049-433f-97d5-e00f1f0378e0",
   "metadata": {},
   "outputs": [],
   "source": [
    "df7['updated_date'] = pd.to_datetime(df7['date'])"
   ]
  },
  {
   "cell_type": "code",
   "execution_count": null,
   "id": "9b1e915c-b096-4b7c-aa76-63e6da52d593",
   "metadata": {},
   "outputs": [],
   "source": [
    "df7"
   ]
  },
  {
   "cell_type": "code",
   "execution_count": null,
   "id": "46596f7b-4af8-4c68-b3eb-54b2eec40809",
   "metadata": {},
   "outputs": [],
   "source": [
    "df7.dtypes"
   ]
  },
  {
   "cell_type": "code",
   "execution_count": null,
   "id": "bdb3d53a-2f9b-4be5-a51b-7bef6d058245",
   "metadata": {},
   "outputs": [],
   "source": [
    "df7['year'] = df7['updated_date'].dt.year"
   ]
  },
  {
   "cell_type": "code",
   "execution_count": null,
   "id": "b427f5f5-be9f-4b18-a025-d5413de84cd5",
   "metadata": {},
   "outputs": [],
   "source": [
    "df7"
   ]
  },
  {
   "cell_type": "code",
   "execution_count": null,
   "id": "56ae3c19-d8ef-4ca2-b872-01715f02b100",
   "metadata": {},
   "outputs": [],
   "source": [
    "df7['day'] = df7['updated_date'].dt.day"
   ]
  },
  {
   "cell_type": "code",
   "execution_count": null,
   "id": "2cdadde7-7852-415b-9470-934b7500f35f",
   "metadata": {},
   "outputs": [],
   "source": [
    "df7"
   ]
  },
  {
   "cell_type": "code",
   "execution_count": null,
   "id": "2f27d21a-3000-4524-b77a-c74c9e3ae66e",
   "metadata": {},
   "outputs": [],
   "source": [
    "df7['month'] = df7['updated_date'].dt.month"
   ]
  },
  {
   "cell_type": "code",
   "execution_count": null,
   "id": "3bc51446-0664-4064-a7b0-2bc5b545fb7b",
   "metadata": {},
   "outputs": [],
   "source": [
    "df7"
   ]
  },
  {
   "cell_type": "code",
   "execution_count": null,
   "id": "7f7519dc-8529-4614-8b1c-9a611c5c870b",
   "metadata": {},
   "outputs": [],
   "source": [
    "#Python Pandas –Time Delta"
   ]
  },
  {
   "cell_type": "code",
   "execution_count": null,
   "id": "645db2db-22c4-4d2c-8b4a-98ee2ed526e5",
   "metadata": {},
   "outputs": [],
   "source": [
    "pd.Timedelta(days= 1,hours = 5 ,minutes = 45)"
   ]
  },
  {
   "cell_type": "code",
   "execution_count": null,
   "id": "17442ce7-287c-42b0-9659-16f8eef88b7e",
   "metadata": {},
   "outputs": [],
   "source": [
    "dt = pd.to_datetime('2023-06-20')"
   ]
  },
  {
   "cell_type": "code",
   "execution_count": null,
   "id": "17e2af68-b3da-4c97-b27f-ba162a87215f",
   "metadata": {},
   "outputs": [],
   "source": [
    "td = pd.Timedelta(days = 1 )"
   ]
  },
  {
   "cell_type": "code",
   "execution_count": null,
   "id": "b8299377-7075-457a-a1e8-b2e5ac698b1c",
   "metadata": {},
   "outputs": [],
   "source": [
    "dt+td"
   ]
  },
  {
   "cell_type": "code",
   "execution_count": null,
   "id": "af72245a-b512-4c8e-ac26-16cc85cca8a3",
   "metadata": {},
   "outputs": [],
   "source": [
    "#Python Pandas - Categorical Data\n",
    "\n",
    "data = [\"sudh\" , \"krish\" , \"hitesh\" , \"navin\",\"sudh\" ,\"sudh\" ]"
   ]
  },
  {
   "cell_type": "code",
   "execution_count": null,
   "id": "02aeb550-56ca-490a-bc94-185ce07b913a",
   "metadata": {},
   "outputs": [],
   "source": [
    "cat = pd.Categorical(data)"
   ]
  },
  {
   "cell_type": "code",
   "execution_count": null,
   "id": "cb872d65-5127-4581-b5ad-af5e0f698596",
   "metadata": {},
   "outputs": [],
   "source": [
    "cat"
   ]
  },
  {
   "cell_type": "code",
   "execution_count": null,
   "id": "4ec59f44-af19-4a8d-8549-6b025e551284",
   "metadata": {},
   "outputs": [],
   "source": [
    "cat.value_counts()"
   ]
  },
  {
   "cell_type": "code",
   "execution_count": null,
   "id": "c2442abd-c029-4048-8e9a-aa754017c388",
   "metadata": {},
   "outputs": [],
   "source": [
    "#Python Pandas – Visualization"
   ]
  },
  {
   "cell_type": "code",
   "execution_count": null,
   "id": "9c14748f-044c-43f2-ac38-2e5e3837f98a",
   "metadata": {},
   "outputs": [],
   "source": [
    "d = pd.Series([1,2,3,3,5,6,6,8])\n",
    "d"
   ]
  },
  {
   "cell_type": "code",
   "execution_count": null,
   "id": "c1dfaf35-9614-4711-aa25-5ee25b688edf",
   "metadata": {},
   "outputs": [],
   "source": [
    "d.plot()"
   ]
  },
  {
   "cell_type": "code",
   "execution_count": null,
   "id": "61e03762-a854-4077-8b0f-d80673243409",
   "metadata": {},
   "outputs": [],
   "source": [
    "df = pd.DataFrame({'a':[3,4,5,6,7],\n",
    "                  'b':[4,5,6,7,8]})"
   ]
  },
  {
   "cell_type": "code",
   "execution_count": null,
   "id": "91e5de1e-914f-430a-8bac-3239e8dcd522",
   "metadata": {},
   "outputs": [],
   "source": [
    "df"
   ]
  },
  {
   "cell_type": "code",
   "execution_count": null,
   "id": "67ef4da9-bcea-45cc-8969-9df58e4160ed",
   "metadata": {},
   "outputs": [],
   "source": [
    "df.plot(x= 'a',y='b')"
   ]
  },
  {
   "cell_type": "code",
   "execution_count": null,
   "id": "5e5b52ae-84c7-4fe5-85a0-c66910276874",
   "metadata": {},
   "outputs": [],
   "source": [
    "df.plot.scatter(x= 'a',y='b')"
   ]
  },
  {
   "cell_type": "code",
   "execution_count": null,
   "id": "b0f4372c-7c82-4ce8-997f-271f7a22cd0e",
   "metadata": {},
   "outputs": [],
   "source": [
    "df"
   ]
  },
  {
   "cell_type": "code",
   "execution_count": null,
   "id": "d1f9ddfa-497c-4aee-8f1f-9c41e1e09b38",
   "metadata": {},
   "outputs": [],
   "source": [
    "d = pd.Series([1,2,3,3,5,6,6,8])\n",
    "d"
   ]
  },
  {
   "cell_type": "code",
   "execution_count": null,
   "id": "742ced0c-3ed1-44ce-988f-83cc5cab3953",
   "metadata": {},
   "outputs": [],
   "source": [
    "d.plot.pie()"
   ]
  },
  {
   "cell_type": "code",
   "execution_count": null,
   "id": "8a6dcd58-0847-4e60-8e74-7868b941c6f3",
   "metadata": {},
   "outputs": [],
   "source": []
  }
 ],
 "metadata": {
  "kernelspec": {
   "display_name": "Python 3.8.10 64-bit",
   "language": "python",
   "name": "python3"
  },
  "language_info": {
   "codemirror_mode": {
    "name": "ipython",
    "version": 3
   },
   "file_extension": ".py",
   "mimetype": "text/x-python",
   "name": "python",
   "nbconvert_exporter": "python",
   "pygments_lexer": "ipython3",
   "version": "3.8.10"
  },
  "vscode": {
   "interpreter": {
    "hash": "e7370f93d1d0cde622a1f8e1c04877d8463912d04d973331ad4851f04de6915a"
   }
  }
 },
 "nbformat": 4,
 "nbformat_minor": 5
}
