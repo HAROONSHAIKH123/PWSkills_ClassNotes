{
 "cells": [
  {
   "cell_type": "markdown",
   "id": "afeb3586-8151-4884-b590-f324febf1fb3",
   "metadata": {
    "tags": []
   },
   "source": [
    "# List submission"
   ]
  },
  {
   "cell_type": "code",
   "execution_count": 3,
   "id": "5bae2ff9-2e9c-4d7a-a7ed-b03547aedc63",
   "metadata": {},
   "outputs": [
    {
     "data": {
      "text/plain": [
       "'Total sum is << 125 >> for list [7, 7, 7, 7, 6, 6, 7, 6, 7, 7, 6, 7, 6, 7, 6, 7, 7, 6, 6]'"
      ]
     },
     "execution_count": 3,
     "metadata": {},
     "output_type": "execute_result"
    }
   ],
   "source": [
    "def sumNum(*args):\n",
    "    a = list(args)\n",
    "    return(f\"Total sum is << {sum(a)} >> for list {a}\")\n",
    "sumNum(7,7,7,7,6,6,7,6,7,7,6,7,6,7,6,7,7,6,6)\n",
    "\n",
    "# a = float(sumNum(11,10,15,13,13).split(\" \")[4])\n",
    "# print(f\"For QTY << {a} >> Amount is {round((a*1.12*48),2)}\")"
   ]
  },
  {
   "cell_type": "markdown",
   "id": "9e26922c-b954-4ade-9827-d8041a42600b",
   "metadata": {
    "tags": []
   },
   "source": [
    "# RMC bill checking"
   ]
  },
  {
   "cell_type": "code",
   "execution_count": 9,
   "id": "24ecca65-b026-4e6b-a226-0234cdb4e708",
   "metadata": {},
   "outputs": [
    {
     "data": {
      "text/html": [
       "<div>\n",
       "<style scoped>\n",
       "    .dataframe tbody tr th:only-of-type {\n",
       "        vertical-align: middle;\n",
       "    }\n",
       "\n",
       "    .dataframe tbody tr th {\n",
       "        vertical-align: top;\n",
       "    }\n",
       "\n",
       "    .dataframe thead th {\n",
       "        text-align: right;\n",
       "    }\n",
       "</style>\n",
       "<table border=\"1\" class=\"dataframe\">\n",
       "  <thead>\n",
       "    <tr style=\"text-align: right;\">\n",
       "      <th></th>\n",
       "      <th>po_no</th>\n",
       "      <th>grade</th>\n",
       "      <th>po_qty</th>\n",
       "      <th>rate</th>\n",
       "      <th>qty</th>\n",
       "      <th>amount</th>\n",
       "      <th>strength</th>\n",
       "    </tr>\n",
       "  </thead>\n",
       "  <tbody>\n",
       "    <tr>\n",
       "      <th>18</th>\n",
       "      <td>4500198326</td>\n",
       "      <td>M60</td>\n",
       "      <td>80</td>\n",
       "      <td>7150.0</td>\n",
       "      <td>6</td>\n",
       "      <td>50622.0</td>\n",
       "      <td>39.0</td>\n",
       "    </tr>\n",
       "    <tr>\n",
       "      <th>26</th>\n",
       "      <td>4500198326</td>\n",
       "      <td>M60</td>\n",
       "      <td>80</td>\n",
       "      <td>7150.0</td>\n",
       "      <td>6</td>\n",
       "      <td>50622.0</td>\n",
       "      <td>39.0</td>\n",
       "    </tr>\n",
       "  </tbody>\n",
       "</table>\n",
       "</div>"
      ],
      "text/plain": [
       "         po_no grade po_qty    rate  qty   amount  strength\n",
       "18  4500198326   M60     80  7150.0    6  50622.0      39.0\n",
       "26  4500198326   M60     80  7150.0    6  50622.0      39.0"
      ]
     },
     "execution_count": 9,
     "metadata": {},
     "output_type": "execute_result"
    }
   ],
   "source": [
    "import pandas as pd\n",
    "import numpy as np\n",
    "a = '''\n",
    "4500196911 RMC Supply With Flyash  M50 Grade\t20\tM3\tD\t04.11.2022\t6,700.00\n",
    "4500196911 RMC Supply With Flyash  M60 Grade\t75\tM3\tD\t04.11.2022\t7,150.00\n",
    "4500197822 RMC Supply with FLY ASH-M70 Grade\t150\tM3\tD\t30.11.2022\t8,300.00\n",
    "4500197329 RMC Supply With Flyash  M50 Grade\t60\tM3\tD\t17.11.2022\t6,700.00\n",
    "4500197329 RMC Supply With Flyash  M60 Grade\t75\tM3\tD\t17.11.2022\t7,150.00\n",
    "4500197290 RMC Supply With Flyash  M40 Grade\t25\tM3\tD\t17.11.2022\t6,200.00\n",
    "4500197290 RMC Supply With Flyash  M50 Grade\t50\tM3\tD\t17.11.2022\t6,700.00\n",
    "4500197290 RMC Supply With Flyash  M60 Grade\t50\tM3\tD\t17.11.2022\t7,150.00\n",
    "4500197838 RMC Supply with FLY ASH-M70 Grade\t100\tM3\tD\t30.11.2022\t8,300.00\n",
    "4500198108 RMC Supply With Flyash  M15 Grade\t100\tM3\tD\t14.12.2022\t4,750.00\n",
    "4500198107 RMC Supply With Flyash  M15 Grade\t50\tM3\tD\t14.12.2022\t4,750.00\n",
    "4500198431 RMC Supply With Flyash  M15 Grade\t18\tM3\tD\t22.12.2022\t4,650.00\n",
    "4500198332 RMC Supply With Flyash  M40 Grade\t90\tM3\tD\t21.12.2022\t6,200.00\n",
    "4500198332 RMC Supply With Flyash  M60 Grade\t90\tM3\tD\t21.12.2022\t7,150.00\n",
    "4500198332 RMC Supply with FLY ASH-M70 Grade\t140\tM3\tD\t25.12.2022\t8,300.00\n",
    "4500198332 RMC Supply With Flyash  M50 Grade\t125\tM3\tD\t21.12.2022\t6,700.00\n",
    "4500198326 RMC Supply With Flyash  M40 Grade\t80\tM3\tD\t21.12.2022\t6,200.00\n",
    "4500198326 RMC Supply With Flyash  M50 Grade\t125\tM3\tD\t21.12.2022\t6,700.00\n",
    "4500198326 RMC Supply With Flyash  M60 Grade\t80\tM3\tD\t21.12.2022\t7,150.00\n",
    "4500198326 RMC Supply with FLY ASH-M70 Grade\t130\tM3\tD\t15.12.2022\t8,300.00\n",
    "4500197330 RMC Supply With Flyash  M10 Grade\t50\tM3\tD\t17.11.2022\t4,217.00\n",
    "4500197330 RMC Supply With Flyash  M50 Grade\t50\tM3\tD\t17.11.2022\t6,700.00\n",
    "4500197330 RMC Supply With Flyash  M60 Grade\t50\tM3\tD\t17.11.2022\t7,150.00\n",
    "4500198433 RMC Supply With Flyash  M40 Grade\t102\tM3\tD\t22.12.2022\t6,200.00\n",
    "4500198326 RMC Supply With Flyash  M40 Grade\t80\tM3\tD\t21.12.2022\t6,200.00\n",
    "4500198326 RMC Supply With Flyash  M50 Grade\t125\tM3\tD\t21.12.2022\t6,700.00\n",
    "4500198326 RMC Supply With Flyash  M60 Grade\t80\tM3\tD\t21.12.2022\t7,150.00\n",
    "4500198326 RMC Supply with FLY ASH-M70 Grade\t130\tM3\tD\t15.12.2022\t8,300.00\n",
    "'''\n",
    "\n",
    "po_datas = []\n",
    "for i in (a.strip().splitlines()):\n",
    "    try:\n",
    "        po = i.split('\\t')[0][:10]\n",
    "    except:\n",
    "        po = None\n",
    "    try:\n",
    "        grade = i.split('\\t')[0].strip()[-9:-6]\n",
    "    except:\n",
    "        grade = None\n",
    "    try:\n",
    "        rate = i.split('\\t')[-1]\n",
    "    except:\n",
    "        rate = None\n",
    "    try:\n",
    "        po_qty = i.split('\\t')[1]\n",
    "    except:\n",
    "        po_qty = None\n",
    "    po_data = {\n",
    "        'po_no':po,\n",
    "        'grade':grade,\n",
    "        'po_qty':po_qty,\n",
    "        'rate':rate\n",
    "        \n",
    "    }\n",
    "    po_datas.append(po_data)\n",
    "df = pd.DataFrame(po_datas)\n",
    "df['rate'] = df.rate.str.replace(',','').astype(float)\n",
    "\n",
    "def sumNum(*args):\n",
    "    a = list(args)\n",
    "    return(sum(a))\n",
    "\n",
    "# Enter QTY\n",
    "q = sumNum(6)\n",
    "\n",
    "df['qty'] = q\n",
    "df['amount'] = (df['rate'] * df['qty']) * 1.18\n",
    "df['strength'] = df.grade.str[1:].astype(float)*.65\n",
    "\n",
    "# Enter PO number and Grade\n",
    "df[(df.po_no == '4500198326')&(df.grade == 'M60')]\n",
    "# df.groupby(['grade','strength']).size()\n",
    "# df[(df.po_no == '4500197650')]\n",
    "# df"
   ]
  },
  {
   "cell_type": "code",
   "execution_count": null,
   "id": "aa1d174b",
   "metadata": {},
   "outputs": [],
   "source": []
  }
 ],
 "metadata": {
  "kernelspec": {
   "display_name": "Python 3.8.10 64-bit",
   "language": "python",
   "name": "python3"
  },
  "language_info": {
   "codemirror_mode": {
    "name": "ipython",
    "version": 3
   },
   "file_extension": ".py",
   "mimetype": "text/x-python",
   "name": "python",
   "nbconvert_exporter": "python",
   "pygments_lexer": "ipython3",
   "version": "3.8.10"
  },
  "vscode": {
   "interpreter": {
    "hash": "e7370f93d1d0cde622a1f8e1c04877d8463912d04d973331ad4851f04de6915a"
   }
  }
 },
 "nbformat": 4,
 "nbformat_minor": 5
}
