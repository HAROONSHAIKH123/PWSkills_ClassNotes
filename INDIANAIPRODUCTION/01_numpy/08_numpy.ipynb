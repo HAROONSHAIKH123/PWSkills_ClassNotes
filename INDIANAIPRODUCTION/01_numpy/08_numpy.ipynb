{
 "cells": [
  {
   "cell_type": "markdown",
   "id": "832e5824-d38f-4e76-a8c9-bcc2eea919a7",
   "metadata": {},
   "source": [
    "# Random sampling with numpy"
   ]
  },
  {
   "cell_type": "code",
   "execution_count": 1,
   "id": "7e58c20f-0c50-41c8-9044-37e0eeb26498",
   "metadata": {},
   "outputs": [],
   "source": [
    "import numpy as np\n",
    "import random"
   ]
  },
  {
   "cell_type": "code",
   "execution_count": 2,
   "id": "f792e818-4a90-43f1-834e-6bbfc999bb14",
   "metadata": {},
   "outputs": [
    {
     "data": {
      "text/plain": [
       "array([0.95838366])"
      ]
     },
     "execution_count": 2,
     "metadata": {},
     "output_type": "execute_result"
    }
   ],
   "source": [
    "np.random.random(1)"
   ]
  },
  {
   "cell_type": "code",
   "execution_count": 3,
   "id": "4106a3ad-246d-41ed-a6c9-441b2ff491b9",
   "metadata": {},
   "outputs": [
    {
     "data": {
      "text/plain": [
       "array([[0.64555877, 0.09633428, 0.01265041],\n",
       "       [0.91263205, 0.09600067, 0.64901654],\n",
       "       [0.69043289, 0.38471812, 0.71209971]])"
      ]
     },
     "execution_count": 3,
     "metadata": {},
     "output_type": "execute_result"
    }
   ],
   "source": [
    "np.random.random((3,3))"
   ]
  },
  {
   "cell_type": "code",
   "execution_count": 5,
   "id": "d4c39e47-b4c7-4471-95a3-705ce37c090a",
   "metadata": {},
   "outputs": [
    {
     "data": {
      "text/plain": [
       "1"
      ]
     },
     "execution_count": 5,
     "metadata": {},
     "output_type": "execute_result"
    }
   ],
   "source": [
    "np.random.randint(1,4)"
   ]
  },
  {
   "cell_type": "code",
   "execution_count": 6,
   "id": "1940eef2-52b0-4e46-9ee4-4e6a2bfa8eee",
   "metadata": {},
   "outputs": [
    {
     "data": {
      "text/plain": [
       "array([[2, 1, 2, 3],\n",
       "       [1, 1, 2, 2],\n",
       "       [3, 3, 3, 3],\n",
       "       [1, 2, 3, 2]])"
      ]
     },
     "execution_count": 6,
     "metadata": {},
     "output_type": "execute_result"
    }
   ],
   "source": [
    "np.random.randint(1,4, (4,4))"
   ]
  },
  {
   "cell_type": "code",
   "execution_count": 7,
   "id": "6c82729c-050b-49c3-b8d4-7d0b6f2f5965",
   "metadata": {},
   "outputs": [
    {
     "data": {
      "text/plain": [
       "array([[[3, 1, 3, 3],\n",
       "        [3, 1, 3, 3],\n",
       "        [2, 3, 1, 3],\n",
       "        [2, 2, 1, 3]],\n",
       "\n",
       "       [[3, 3, 2, 3],\n",
       "        [2, 2, 2, 1],\n",
       "        [2, 2, 2, 2],\n",
       "        [2, 1, 3, 2]]])"
      ]
     },
     "execution_count": 7,
     "metadata": {},
     "output_type": "execute_result"
    }
   ],
   "source": [
    "np.random.randint(1,4, (2,4,4))"
   ]
  },
  {
   "cell_type": "code",
   "execution_count": 9,
   "id": "aaa64e81-2eb1-4a2b-a1f0-12b7a298d577",
   "metadata": {},
   "outputs": [
    {
     "data": {
      "text/plain": [
       "array([[[2, 2, 1, 1],\n",
       "        [2, 1, 2, 2],\n",
       "        [1, 2, 2, 3],\n",
       "        [1, 2, 1, 3]],\n",
       "\n",
       "       [[1, 3, 1, 1],\n",
       "        [1, 3, 1, 3],\n",
       "        [3, 2, 1, 1],\n",
       "        [3, 2, 3, 2]]])"
      ]
     },
     "execution_count": 9,
     "metadata": {},
     "output_type": "execute_result"
    }
   ],
   "source": [
    "np.random.seed(10)\n",
    "np.random.randint(1,4, (2,4,4))"
   ]
  },
  {
   "cell_type": "code",
   "execution_count": 10,
   "id": "2b0527af-9472-4cf6-ba9f-7de4f6d10fb2",
   "metadata": {},
   "outputs": [
    {
     "data": {
      "text/plain": [
       "array([[[2, 2, 1, 1],\n",
       "        [2, 1, 2, 2],\n",
       "        [1, 2, 2, 3],\n",
       "        [1, 2, 1, 3]],\n",
       "\n",
       "       [[1, 3, 1, 1],\n",
       "        [1, 3, 1, 3],\n",
       "        [3, 2, 1, 1],\n",
       "        [3, 2, 3, 2]]])"
      ]
     },
     "execution_count": 10,
     "metadata": {},
     "output_type": "execute_result"
    }
   ],
   "source": [
    "np.random.seed(10)\n",
    "np.random.randint(1,4, (2,4,4))"
   ]
  },
  {
   "cell_type": "code",
   "execution_count": 11,
   "id": "30b5b5e8-bd81-4373-99cb-9e808ed4329a",
   "metadata": {},
   "outputs": [
    {
     "data": {
      "text/plain": [
       "array([0.13145815, 0.41366737, 0.77872881])"
      ]
     },
     "execution_count": 11,
     "metadata": {},
     "output_type": "execute_result"
    }
   ],
   "source": [
    "np.random.rand((3))"
   ]
  },
  {
   "cell_type": "code",
   "execution_count": 14,
   "id": "11a41e05-e2ad-4ce3-bb36-ce15c9ee1ac4",
   "metadata": {},
   "outputs": [
    {
     "data": {
      "text/plain": [
       "array([[0.58390137, 0.18263144, 0.82608225],\n",
       "       [0.10540183, 0.28357668, 0.06556327],\n",
       "       [0.05644419, 0.76545582, 0.01178803]])"
      ]
     },
     "execution_count": 14,
     "metadata": {},
     "output_type": "execute_result"
    }
   ],
   "source": [
    "np.random.rand(3,3)"
   ]
  },
  {
   "cell_type": "code",
   "execution_count": 15,
   "id": "1e5153e2-3a97-48c4-93b4-883b877ed602",
   "metadata": {},
   "outputs": [
    {
     "data": {
      "text/plain": [
       "array([[-1.58494101,  1.05535316, -1.92657911],\n",
       "       [ 0.69858388, -0.74620143, -0.15662666],\n",
       "       [-0.19363594,  1.13912535,  0.36221796]])"
      ]
     },
     "execution_count": 15,
     "metadata": {},
     "output_type": "execute_result"
    }
   ],
   "source": [
    "np.random.randn(3,3)"
   ]
  },
  {
   "cell_type": "code",
   "execution_count": 16,
   "id": "c47067ec-0c50-4f2c-a06e-4625fb4d3534",
   "metadata": {},
   "outputs": [
    {
     "data": {
      "text/plain": [
       "1"
      ]
     },
     "execution_count": 16,
     "metadata": {},
     "output_type": "execute_result"
    }
   ],
   "source": [
    "x = [1,2,3,4]\n",
    "np.random.choice(x)"
   ]
  },
  {
   "cell_type": "code",
   "execution_count": 18,
   "id": "404174c5-4b17-4a91-8304-d39406cfa76f",
   "metadata": {},
   "outputs": [
    {
     "name": "stdout",
     "output_type": "stream",
     "text": [
      "1\n",
      "1\n",
      "2\n",
      "1\n",
      "4\n",
      "1\n",
      "1\n",
      "3\n",
      "1\n",
      "3\n",
      "3\n"
     ]
    }
   ],
   "source": [
    "for i in range(0,11):\n",
    "    print(np.random.choice(x))"
   ]
  },
  {
   "cell_type": "code",
   "execution_count": 19,
   "id": "3a9c0ef3-8657-4307-94ad-b3f499c62846",
   "metadata": {},
   "outputs": [
    {
     "data": {
      "text/plain": [
       "[1, 2, 3, 4]"
      ]
     },
     "execution_count": 19,
     "metadata": {},
     "output_type": "execute_result"
    }
   ],
   "source": [
    "x"
   ]
  },
  {
   "cell_type": "code",
   "execution_count": 20,
   "id": "72b724c2-fe2a-44a2-b041-66328acb47c5",
   "metadata": {},
   "outputs": [
    {
     "data": {
      "text/plain": [
       "array([3, 4, 2, 1])"
      ]
     },
     "execution_count": 20,
     "metadata": {},
     "output_type": "execute_result"
    }
   ],
   "source": [
    "np.random.permutation(x)"
   ]
  },
  {
   "cell_type": "code",
   "execution_count": 21,
   "id": "de7b4e85-e9db-4c0f-aab8-7bae56d17842",
   "metadata": {},
   "outputs": [
    {
     "data": {
      "text/plain": [
       "array([3, 1, 2, 4])"
      ]
     },
     "execution_count": 21,
     "metadata": {},
     "output_type": "execute_result"
    }
   ],
   "source": [
    "np.random.permutation(x)"
   ]
  },
  {
   "cell_type": "code",
   "execution_count": null,
   "id": "4a88eec5-da6a-4e57-8a49-13bafe7b2ada",
   "metadata": {},
   "outputs": [],
   "source": []
  }
 ],
 "metadata": {
  "kernelspec": {
   "display_name": "Python 3 (ipykernel)",
   "language": "python",
   "name": "python3"
  },
  "language_info": {
   "codemirror_mode": {
    "name": "ipython",
    "version": 3
   },
   "file_extension": ".py",
   "mimetype": "text/x-python",
   "name": "python",
   "nbconvert_exporter": "python",
   "pygments_lexer": "ipython3",
   "version": "3.10.6"
  }
 },
 "nbformat": 4,
 "nbformat_minor": 5
}
