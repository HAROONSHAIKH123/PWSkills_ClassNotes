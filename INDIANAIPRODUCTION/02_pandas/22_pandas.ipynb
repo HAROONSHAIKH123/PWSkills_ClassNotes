{
 "cells": [
  {
   "cell_type": "markdown",
   "id": "b60fe4a2-48c6-46ae-9636-c6311d9995e6",
   "metadata": {},
   "source": [
    "# pandas datetime index functinality"
   ]
  },
  {
   "cell_type": "code",
   "execution_count": 2,
   "id": "724f3e39-6388-48e1-8368-16cd0004fe35",
   "metadata": {},
   "outputs": [],
   "source": [
    "import pandas as pd\n",
    "import numpy as np\n",
    "import seaborn as sns"
   ]
  },
  {
   "cell_type": "code",
   "execution_count": 17,
   "id": "267f8fbf-a5a1-4306-8f45-1032610ee66d",
   "metadata": {},
   "outputs": [
    {
     "data": {
      "text/html": [
       "<div>\n",
       "<style scoped>\n",
       "    .dataframe tbody tr th:only-of-type {\n",
       "        vertical-align: middle;\n",
       "    }\n",
       "\n",
       "    .dataframe tbody tr th {\n",
       "        vertical-align: top;\n",
       "    }\n",
       "\n",
       "    .dataframe thead th {\n",
       "        text-align: right;\n",
       "    }\n",
       "</style>\n",
       "<table border=\"1\" class=\"dataframe\">\n",
       "  <thead>\n",
       "    <tr style=\"text-align: right;\">\n",
       "      <th></th>\n",
       "      <th>date</th>\n",
       "      <th>r&amp;d spend</th>\n",
       "      <th>marketing spend</th>\n",
       "      <th>profit</th>\n",
       "    </tr>\n",
       "  </thead>\n",
       "  <tbody>\n",
       "    <tr>\n",
       "      <th>0</th>\n",
       "      <td>01-07-2019</td>\n",
       "      <td>158082</td>\n",
       "      <td>59393</td>\n",
       "      <td>98689</td>\n",
       "    </tr>\n",
       "    <tr>\n",
       "      <th>1</th>\n",
       "      <td>02-07-2019</td>\n",
       "      <td>109258</td>\n",
       "      <td>18151</td>\n",
       "      <td>91107</td>\n",
       "    </tr>\n",
       "    <tr>\n",
       "      <th>2</th>\n",
       "      <td>03-07-2019</td>\n",
       "      <td>173166</td>\n",
       "      <td>76557</td>\n",
       "      <td>96609</td>\n",
       "    </tr>\n",
       "    <tr>\n",
       "      <th>3</th>\n",
       "      <td>04-07-2019</td>\n",
       "      <td>170535</td>\n",
       "      <td>72351</td>\n",
       "      <td>98184</td>\n",
       "    </tr>\n",
       "    <tr>\n",
       "      <th>4</th>\n",
       "      <td>05-07-2019</td>\n",
       "      <td>182619</td>\n",
       "      <td>83327</td>\n",
       "      <td>99292</td>\n",
       "    </tr>\n",
       "    <tr>\n",
       "      <th>5</th>\n",
       "      <td>06-07-2019</td>\n",
       "      <td>100614</td>\n",
       "      <td>2738</td>\n",
       "      <td>97876</td>\n",
       "    </tr>\n",
       "    <tr>\n",
       "      <th>6</th>\n",
       "      <td>07-07-2019</td>\n",
       "      <td>120608</td>\n",
       "      <td>25630</td>\n",
       "      <td>94978</td>\n",
       "    </tr>\n",
       "    <tr>\n",
       "      <th>7</th>\n",
       "      <td>08-07-2019</td>\n",
       "      <td>163864</td>\n",
       "      <td>66266</td>\n",
       "      <td>97598</td>\n",
       "    </tr>\n",
       "    <tr>\n",
       "      <th>8</th>\n",
       "      <td>09-07-2019</td>\n",
       "      <td>115258</td>\n",
       "      <td>20368</td>\n",
       "      <td>94890</td>\n",
       "    </tr>\n",
       "    <tr>\n",
       "      <th>9</th>\n",
       "      <td>10-07-2019</td>\n",
       "      <td>156133</td>\n",
       "      <td>57015</td>\n",
       "      <td>99118</td>\n",
       "    </tr>\n",
       "    <tr>\n",
       "      <th>10</th>\n",
       "      <td>11-07-2019</td>\n",
       "      <td>168577</td>\n",
       "      <td>75818</td>\n",
       "      <td>92759</td>\n",
       "    </tr>\n",
       "    <tr>\n",
       "      <th>11</th>\n",
       "      <td>12-07-2019</td>\n",
       "      <td>101210</td>\n",
       "      <td>9931</td>\n",
       "      <td>91279</td>\n",
       "    </tr>\n",
       "  </tbody>\n",
       "</table>\n",
       "</div>"
      ],
      "text/plain": [
       "          date  r&d spend  marketing spend  profit\n",
       "0   01-07-2019     158082            59393   98689\n",
       "1   02-07-2019     109258            18151   91107\n",
       "2   03-07-2019     173166            76557   96609\n",
       "3   04-07-2019     170535            72351   98184\n",
       "4   05-07-2019     182619            83327   99292\n",
       "5   06-07-2019     100614             2738   97876\n",
       "6   07-07-2019     120608            25630   94978\n",
       "7   08-07-2019     163864            66266   97598\n",
       "8   09-07-2019     115258            20368   94890\n",
       "9   10-07-2019     156133            57015   99118\n",
       "10  11-07-2019     168577            75818   92759\n",
       "11  12-07-2019     101210             9931   91279"
      ]
     },
     "execution_count": 17,
     "metadata": {},
     "output_type": "execute_result"
    }
   ],
   "source": [
    "df = pd.read_csv('data/vc_startups.csv')\n",
    "df"
   ]
  },
  {
   "cell_type": "code",
   "execution_count": 18,
   "id": "b50f8502-1cc5-46d6-9880-f6bf3365e6d3",
   "metadata": {},
   "outputs": [
    {
     "data": {
      "text/plain": [
       "date               object\n",
       "r&d spend           int64\n",
       "marketing spend     int64\n",
       "profit              int64\n",
       "dtype: object"
      ]
     },
     "execution_count": 18,
     "metadata": {},
     "output_type": "execute_result"
    }
   ],
   "source": [
    "df.dtypes"
   ]
  },
  {
   "cell_type": "code",
   "execution_count": 20,
   "id": "53dd77e4-a99f-4241-bd1e-ac5810485bd8",
   "metadata": {},
   "outputs": [
    {
     "data": {
      "text/plain": [
       "str"
      ]
     },
     "execution_count": 20,
     "metadata": {},
     "output_type": "execute_result"
    }
   ],
   "source": [
    "type(df.date[0])"
   ]
  },
  {
   "cell_type": "code",
   "execution_count": 22,
   "id": "14b33e4b-a920-47aa-8c60-cb1361197d68",
   "metadata": {},
   "outputs": [
    {
     "data": {
      "text/html": [
       "<div>\n",
       "<style scoped>\n",
       "    .dataframe tbody tr th:only-of-type {\n",
       "        vertical-align: middle;\n",
       "    }\n",
       "\n",
       "    .dataframe tbody tr th {\n",
       "        vertical-align: top;\n",
       "    }\n",
       "\n",
       "    .dataframe thead th {\n",
       "        text-align: right;\n",
       "    }\n",
       "</style>\n",
       "<table border=\"1\" class=\"dataframe\">\n",
       "  <thead>\n",
       "    <tr style=\"text-align: right;\">\n",
       "      <th></th>\n",
       "      <th>date</th>\n",
       "      <th>r&amp;d spend</th>\n",
       "      <th>marketing spend</th>\n",
       "      <th>profit</th>\n",
       "    </tr>\n",
       "  </thead>\n",
       "  <tbody>\n",
       "    <tr>\n",
       "      <th>0</th>\n",
       "      <td>2019-01-07</td>\n",
       "      <td>158082</td>\n",
       "      <td>59393</td>\n",
       "      <td>98689</td>\n",
       "    </tr>\n",
       "    <tr>\n",
       "      <th>1</th>\n",
       "      <td>2019-02-07</td>\n",
       "      <td>109258</td>\n",
       "      <td>18151</td>\n",
       "      <td>91107</td>\n",
       "    </tr>\n",
       "    <tr>\n",
       "      <th>2</th>\n",
       "      <td>2019-03-07</td>\n",
       "      <td>173166</td>\n",
       "      <td>76557</td>\n",
       "      <td>96609</td>\n",
       "    </tr>\n",
       "    <tr>\n",
       "      <th>3</th>\n",
       "      <td>2019-04-07</td>\n",
       "      <td>170535</td>\n",
       "      <td>72351</td>\n",
       "      <td>98184</td>\n",
       "    </tr>\n",
       "    <tr>\n",
       "      <th>4</th>\n",
       "      <td>2019-05-07</td>\n",
       "      <td>182619</td>\n",
       "      <td>83327</td>\n",
       "      <td>99292</td>\n",
       "    </tr>\n",
       "    <tr>\n",
       "      <th>5</th>\n",
       "      <td>2019-06-07</td>\n",
       "      <td>100614</td>\n",
       "      <td>2738</td>\n",
       "      <td>97876</td>\n",
       "    </tr>\n",
       "    <tr>\n",
       "      <th>6</th>\n",
       "      <td>2019-07-07</td>\n",
       "      <td>120608</td>\n",
       "      <td>25630</td>\n",
       "      <td>94978</td>\n",
       "    </tr>\n",
       "    <tr>\n",
       "      <th>7</th>\n",
       "      <td>2019-08-07</td>\n",
       "      <td>163864</td>\n",
       "      <td>66266</td>\n",
       "      <td>97598</td>\n",
       "    </tr>\n",
       "    <tr>\n",
       "      <th>8</th>\n",
       "      <td>2019-09-07</td>\n",
       "      <td>115258</td>\n",
       "      <td>20368</td>\n",
       "      <td>94890</td>\n",
       "    </tr>\n",
       "    <tr>\n",
       "      <th>9</th>\n",
       "      <td>2019-10-07</td>\n",
       "      <td>156133</td>\n",
       "      <td>57015</td>\n",
       "      <td>99118</td>\n",
       "    </tr>\n",
       "    <tr>\n",
       "      <th>10</th>\n",
       "      <td>2019-11-07</td>\n",
       "      <td>168577</td>\n",
       "      <td>75818</td>\n",
       "      <td>92759</td>\n",
       "    </tr>\n",
       "    <tr>\n",
       "      <th>11</th>\n",
       "      <td>2019-12-07</td>\n",
       "      <td>101210</td>\n",
       "      <td>9931</td>\n",
       "      <td>91279</td>\n",
       "    </tr>\n",
       "  </tbody>\n",
       "</table>\n",
       "</div>"
      ],
      "text/plain": [
       "         date  r&d spend  marketing spend  profit\n",
       "0  2019-01-07     158082            59393   98689\n",
       "1  2019-02-07     109258            18151   91107\n",
       "2  2019-03-07     173166            76557   96609\n",
       "3  2019-04-07     170535            72351   98184\n",
       "4  2019-05-07     182619            83327   99292\n",
       "5  2019-06-07     100614             2738   97876\n",
       "6  2019-07-07     120608            25630   94978\n",
       "7  2019-08-07     163864            66266   97598\n",
       "8  2019-09-07     115258            20368   94890\n",
       "9  2019-10-07     156133            57015   99118\n",
       "10 2019-11-07     168577            75818   92759\n",
       "11 2019-12-07     101210             9931   91279"
      ]
     },
     "execution_count": 22,
     "metadata": {},
     "output_type": "execute_result"
    }
   ],
   "source": [
    "df = pd.read_csv('data/vc_startups.csv', parse_dates=['date'])\n",
    "df"
   ]
  },
  {
   "cell_type": "code",
   "execution_count": 23,
   "id": "5f6b632c-9585-4e12-ad25-f34c76b8c804",
   "metadata": {},
   "outputs": [
    {
     "data": {
      "text/plain": [
       "date               datetime64[ns]\n",
       "r&d spend                   int64\n",
       "marketing spend             int64\n",
       "profit                      int64\n",
       "dtype: object"
      ]
     },
     "execution_count": 23,
     "metadata": {},
     "output_type": "execute_result"
    }
   ],
   "source": [
    "df.dtypes"
   ]
  },
  {
   "cell_type": "code",
   "execution_count": 24,
   "id": "a2b21738-f440-405b-8e1f-e21131b7819f",
   "metadata": {},
   "outputs": [
    {
     "data": {
      "text/plain": [
       "pandas._libs.tslibs.timestamps.Timestamp"
      ]
     },
     "execution_count": 24,
     "metadata": {},
     "output_type": "execute_result"
    }
   ],
   "source": [
    "type(df.date[0])"
   ]
  },
  {
   "cell_type": "code",
   "execution_count": null,
   "id": "2a0492e5-1411-47b0-8029-a9335a5c6be7",
   "metadata": {},
   "outputs": [],
   "source": []
  }
 ],
 "metadata": {
  "kernelspec": {
   "display_name": "Python 3 (ipykernel)",
   "language": "python",
   "name": "python3"
  },
  "language_info": {
   "codemirror_mode": {
    "name": "ipython",
    "version": 3
   },
   "file_extension": ".py",
   "mimetype": "text/x-python",
   "name": "python",
   "nbconvert_exporter": "python",
   "pygments_lexer": "ipython3",
   "version": "3.10.6"
  }
 },
 "nbformat": 4,
 "nbformat_minor": 5
}
