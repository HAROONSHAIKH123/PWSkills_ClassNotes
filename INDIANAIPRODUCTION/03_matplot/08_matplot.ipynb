{
 "cells": [
  {
   "cell_type": "markdown",
   "id": "8e121f59-93a1-431f-b85d-cadc1cf30761",
   "metadata": {},
   "source": [
    "# Imshow"
   ]
  },
  {
   "cell_type": "code",
   "execution_count": null,
   "id": "2e424237-fb3e-4270-b144-81a6526b38d0",
   "metadata": {},
   "outputs": [],
   "source": [
    "import matplotlib.pyplot as plt\n",
    "import matplotlib.image as mpimg # image module for image reading"
   ]
  },
  {
   "cell_type": "code",
   "execution_count": null,
   "id": "cfdc0964-cf53-46b1-8c8c-039020e7ccd9",
   "metadata": {},
   "outputs": [],
   "source": [
    "img = mpimg.imread(\"pie_char.png\") # give addres of image location\n",
    "print(img)"
   ]
  },
  {
   "cell_type": "code",
   "execution_count": null,
   "id": "32c8044f-13dc-4b5b-9ef4-f422a8a3abfe",
   "metadata": {},
   "outputs": [],
   "source": [
    "print(\"Data type of img > \", type(img))\n",
    "print(\"Shape of img > \", img.shape)\n",
    "print(\"Dimention of img > \",img.ndim)"
   ]
  },
  {
   "cell_type": "code",
   "execution_count": null,
   "id": "87fcce73-1f76-43a0-b28a-0cd1774a0ce6",
   "metadata": {},
   "outputs": [],
   "source": [
    "plt.imshow(img)\n",
    "plt.show()"
   ]
  },
  {
   "cell_type": "code",
   "execution_count": null,
   "id": "86d2b46a-4486-4e84-9d63-85a990e6dc0d",
   "metadata": {},
   "outputs": [],
   "source": [
    "plt.figure(figsize=(16,9))\n",
    "plt.axis(\"off\")\n",
    "plt.imshow(img)\n",
    "plt.show()"
   ]
  },
  {
   "cell_type": "code",
   "execution_count": null,
   "id": "c4f1bbdf-c1df-4667-a67a-ae5803467cda",
   "metadata": {},
   "outputs": [],
   "source": [
    "plt.figure(figsize=(16,9))\n",
    "plt.axis(\"off\")\n",
    "plt.imshow(img)\n",
    "plt.colorbar() # Show color bar of above image\n",
    "plt.show()"
   ]
  },
  {
   "cell_type": "code",
   "execution_count": null,
   "id": "d4a39ff5-82ae-4f67-98d0-64c47b62abd0",
   "metadata": {},
   "outputs": [],
   "source": [
    "single_channel = img[:,:,1] # get single channel data from img\n",
    "plt.figure(figsize=(16,9))\n",
    "plt.axis(\"off\")\n",
    "plt.imshow(single_channel, cmap = \"hot\") # show image with hot color map\n",
    "plt.colorbar()\n",
    "plt.show()"
   ]
  },
  {
   "cell_type": "code",
   "execution_count": null,
   "id": "c7fc1810-635b-4bef-ad31-f23f26cabc75",
   "metadata": {},
   "outputs": [],
   "source": [
    "img2 = mpimg.imread(\"car.jpeg\")\n",
    "plt.figure(figsize=(16,9))\n",
    "plt.axis(\"off\")\n",
    "plt.imshow(img2)\n",
    "plt.colorbar()\n",
    "plt.show()"
   ]
  },
  {
   "cell_type": "code",
   "execution_count": null,
   "id": "8209782b-204f-46ef-8ee0-b85ece365c02",
   "metadata": {},
   "outputs": [],
   "source": [
    "single_channel2_img = img2[:,:,1]\n",
    "plt.figure(figsize=(16,9))\n",
    "plt.axis(\"off\")\n",
    "plt.imshow(single_channel2_img, cmap=\"hot\")\n",
    "plt.colorbar()\n",
    "plt.savefig(\"model_hot.png\")\n",
    "plt.show()"
   ]
  },
  {
   "cell_type": "code",
   "execution_count": null,
   "id": "84641184-eca9-4d88-8866-ebd6d30a5a15",
   "metadata": {},
   "outputs": [],
   "source": [
    "single_channel2_img = img2[:,:,1]\n",
    "plt.figure(figsize=(16,9))\n",
    "plt.axis(\"off\")\n",
    "plt.imshow(single_channel2_img, cmap=\"nipy_spectral\")\n",
    "plt.colorbar()\n",
    "plt.savefig(\"model_hot.png\")\n",
    "plt.show()"
   ]
  },
  {
   "cell_type": "code",
   "execution_count": null,
   "id": "25a5a4c4-c7ff-4cbe-bb7f-3babb235cf80",
   "metadata": {},
   "outputs": [],
   "source": [
    "cmap = \"\"\"Accent, Accent_r, Blues, Blues_r, BrBG, BrBG_r, BuGn, BuGn_r, BuPu, BuPu_r, CMRmap, CMRmap_r, Dark2, Dark2_r, GnBu, GnBu_r, Greens, Greens_r, Greys, Greys_r, OrRd, OrRd_r, Oranges, Oranges_r, PRGn, PRGn_r, Paired, Paired_r, Pastel1, Pastel1_r, Pastel2, Pastel2_r, PiYG, PiYG_r, PuBu, PuBuGn, PuBuGn_r, PuBu_r, PuOr, PuOr_r, PuRd, PuRd_r, Purples, Purples_r, RdBu, RdBu_r, RdGy, RdGy_r, RdPu, RdPu_r, RdYlBu, RdYlBu_r, RdYlGn, RdYlGn_r, Reds, Reds_r, Set1, Set1_r, Set2, Set2_r, Set3, Set3_r, Spectral, Spectral_r, Wistia, Wistia_r, YlGn, YlGnBu, YlGnBu_r, YlGn_r, YlOrBr, YlOrBr_r, YlOrRd, YlOrRd_r, afmhot, afmhot_r, autumn, autumn_r, binary, binary_r, bone, bone_r, brg, brg_r, bwr, bwr_r, cividis, cividis_r, cool, cool_r, coolwarm, coolwarm_r, copper, copper_r, cubehelix, cubehelix_r, flag, flag_r, gist_earth, gist_earth_r, gist_gray, gist_gray_r, gist_heat, gist_heat_r, gist_ncar, gist_ncar_r, gist_rainbow, gist_rainbow_r, gist_stern, gist_stern_r, gist_yarg, gist_yarg_r, gnuplot, gnuplot2, gnuplot2_r, gnuplot_r, gray, gray_r, hot, hot_r, hsv, hsv_r, inferno, inferno_r, jet, jet_r, magma, magma_r, nipy_spectral, nipy_spectral_r, ocean, ocean_r, pink, pink_r, plasma, plasma_r, prism, prism_r, rainbow, rainbow_r, seismic, seismic_r, spring, spring_r, summer, summer_r, tab10, tab10_r, tab20, tab20_r, tab20b, tab20b_r, tab20c, tab20c_r, terrain, terrain_r, twilight, twilight_r, twilight_shifted, twilight_shifted_r, viridis, viridis_r, winter, winter_r\"\"\"\n",
    "cmap_name_list = cmap.split(sep = \", \")\n",
    "# print(cmap_name_list)"
   ]
  },
  {
   "cell_type": "code",
   "execution_count": null,
   "id": "81535148-d06c-462a-bf23-1c930b9c9bcf",
   "metadata": {},
   "outputs": [],
   "source": [
    "# save_image_addr_name = []\n",
    "# for i in range(len(cmap_name_list)):\n",
    "#     cmap_str = cmap_name_list[i]\n",
    "#     save_image_addr_name.append(\"D:\\\\\\cmap_image\\\\\\_\"+\"girl_\" + cmap_name_list[i] + \".png\")\n",
    "#     print(save_image_addr_name[i])"
   ]
  },
  {
   "cell_type": "code",
   "execution_count": null,
   "id": "1769f8da-51a9-453b-95f7-043f54b7b899",
   "metadata": {},
   "outputs": [],
   "source": [
    "# for i in range(len(cmap_name_list)): \n",
    "#     cmap_name = cmap_name_list[i]\n",
    "#     plt.figure(figsize=(16,9))\n",
    "#     plt.axis(\"off\")\n",
    "     \n",
    "#     print(cmap_name)\n",
    " \n",
    "#     plt.imshow(single_channel2_img, cmap=cmap_name)\n",
    "#     #plt.colorbar()\n",
    "#     #save_image_name1 = \"D:\\\\cmap_image\\\\\"+\"girl\" + cmap_list[i]\n",
    "#     print(save_image_addr_name[i])\n",
    "#     plt.savefig(save_image_addr_name[i], orientation='portrate', facecolor= \"k\")\n",
    "#     plt.show()"
   ]
  },
  {
   "cell_type": "code",
   "execution_count": null,
   "id": "3f44c607-cd7c-4329-adf4-0576ae96dfd5",
   "metadata": {},
   "outputs": [],
   "source": []
  }
 ],
 "metadata": {
  "kernelspec": {
   "display_name": "Python 3 (ipykernel)",
   "language": "python",
   "name": "python3"
  },
  "language_info": {
   "codemirror_mode": {
    "name": "ipython",
    "version": 3
   },
   "file_extension": ".py",
   "mimetype": "text/x-python",
   "name": "python",
   "nbconvert_exporter": "python",
   "pygments_lexer": "ipython3",
   "version": "3.10.6"
  }
 },
 "nbformat": 4,
 "nbformat_minor": 5
}
